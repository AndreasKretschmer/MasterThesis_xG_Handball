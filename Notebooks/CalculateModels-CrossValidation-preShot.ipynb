{
 "cells": [
  {
   "cell_type": "code",
   "execution_count": 1,
   "id": "da5752ac-b05f-460f-b8f8-38ad2aee7c9e",
   "metadata": {},
   "outputs": [
    {
     "name": "stdout",
     "output_type": "stream",
     "text": [
      "Defaulting to user installation because normal site-packages is not writeable\n",
      "Requirement already satisfied: pandas in /home/sc.uni-leipzig.de/az091jwou/.local/lib/python3.9/site-packages (1.5.3)\n",
      "Requirement already satisfied: numpy>=1.20.3 in /home/sc.uni-leipzig.de/az091jwou/.local/lib/python3.9/site-packages (from pandas) (1.24.3)\n",
      "Requirement already satisfied: python-dateutil>=2.8.1 in /software/jupyter/conda/envs/tf-gpu/lib/python3.9/site-packages (from pandas) (2.8.2)\n",
      "Requirement already satisfied: pytz>=2020.1 in /home/sc.uni-leipzig.de/az091jwou/.local/lib/python3.9/site-packages (from pandas) (2021.3)\n",
      "Requirement already satisfied: six>=1.5 in /software/jupyter/conda/envs/tf-gpu/lib/python3.9/site-packages (from python-dateutil>=2.8.1->pandas) (1.15.0)\n",
      "Note: you may need to restart the kernel to use updated packages.\n",
      "Defaulting to user installation because normal site-packages is not writeable\n",
      "Requirement already satisfied: numpy in /home/sc.uni-leipzig.de/az091jwou/.local/lib/python3.9/site-packages (1.24.3)\n",
      "Note: you may need to restart the kernel to use updated packages.\n",
      "Defaulting to user installation because normal site-packages is not writeable\n",
      "Requirement already satisfied: matplotlib in /software/jupyter/conda/envs/tf-gpu/lib/python3.9/site-packages (3.5.3)\n",
      "Requirement already satisfied: pyparsing>=2.2.1 in /software/jupyter/conda/envs/tf-gpu/lib/python3.9/site-packages (from matplotlib) (3.0.9)\n",
      "Requirement already satisfied: python-dateutil>=2.7 in /software/jupyter/conda/envs/tf-gpu/lib/python3.9/site-packages (from matplotlib) (2.8.2)\n",
      "Requirement already satisfied: fonttools>=4.22.0 in /software/jupyter/conda/envs/tf-gpu/lib/python3.9/site-packages (from matplotlib) (4.38.0)\n",
      "Requirement already satisfied: numpy>=1.17 in /home/sc.uni-leipzig.de/az091jwou/.local/lib/python3.9/site-packages (from matplotlib) (1.24.3)\n",
      "Requirement already satisfied: cycler>=0.10 in /software/jupyter/conda/envs/tf-gpu/lib/python3.9/site-packages (from matplotlib) (0.11.0)\n",
      "Requirement already satisfied: kiwisolver>=1.0.1 in /software/jupyter/conda/envs/tf-gpu/lib/python3.9/site-packages (from matplotlib) (1.4.4)\n",
      "Requirement already satisfied: pillow>=6.2.0 in /software/jupyter/conda/envs/tf-gpu/lib/python3.9/site-packages (from matplotlib) (9.4.0)\n",
      "Requirement already satisfied: packaging>=20.0 in /software/jupyter/conda/envs/tf-gpu/lib/python3.9/site-packages (from matplotlib) (23.0)\n",
      "Requirement already satisfied: six>=1.5 in /software/jupyter/conda/envs/tf-gpu/lib/python3.9/site-packages (from python-dateutil>=2.7->matplotlib) (1.15.0)\n",
      "Note: you may need to restart the kernel to use updated packages.\n",
      "Defaulting to user installation because normal site-packages is not writeable\n",
      "Requirement already satisfied: scikit-learn in /home/sc.uni-leipzig.de/az091jwou/.local/lib/python3.9/site-packages (1.2.2)\n",
      "Requirement already satisfied: numpy>=1.17.3 in /home/sc.uni-leipzig.de/az091jwou/.local/lib/python3.9/site-packages (from scikit-learn) (1.24.3)\n",
      "Requirement already satisfied: scipy>=1.3.2 in /software/jupyter/conda/envs/tf-gpu/lib/python3.9/site-packages (from scikit-learn) (1.9.1)\n",
      "Requirement already satisfied: joblib>=1.1.1 in /home/sc.uni-leipzig.de/az091jwou/.local/lib/python3.9/site-packages (from scikit-learn) (1.2.0)\n",
      "Requirement already satisfied: threadpoolctl>=2.0.0 in /home/sc.uni-leipzig.de/az091jwou/.local/lib/python3.9/site-packages (from scikit-learn) (3.1.0)\n",
      "Note: you may need to restart the kernel to use updated packages.\n",
      "Defaulting to user installation because normal site-packages is not writeable\n",
      "Requirement already satisfied: seaborn in /home/sc.uni-leipzig.de/az091jwou/.local/lib/python3.9/site-packages (0.12.2)\n",
      "Requirement already satisfied: pandas>=0.25 in /home/sc.uni-leipzig.de/az091jwou/.local/lib/python3.9/site-packages (from seaborn) (1.5.3)\n",
      "Requirement already satisfied: matplotlib!=3.6.1,>=3.1 in /software/jupyter/conda/envs/tf-gpu/lib/python3.9/site-packages (from seaborn) (3.5.3)\n",
      "Requirement already satisfied: numpy!=1.24.0,>=1.17 in /home/sc.uni-leipzig.de/az091jwou/.local/lib/python3.9/site-packages (from seaborn) (1.24.3)\n",
      "Requirement already satisfied: python-dateutil>=2.7 in /software/jupyter/conda/envs/tf-gpu/lib/python3.9/site-packages (from matplotlib!=3.6.1,>=3.1->seaborn) (2.8.2)\n",
      "Requirement already satisfied: fonttools>=4.22.0 in /software/jupyter/conda/envs/tf-gpu/lib/python3.9/site-packages (from matplotlib!=3.6.1,>=3.1->seaborn) (4.38.0)\n",
      "Requirement already satisfied: packaging>=20.0 in /software/jupyter/conda/envs/tf-gpu/lib/python3.9/site-packages (from matplotlib!=3.6.1,>=3.1->seaborn) (23.0)\n",
      "Requirement already satisfied: cycler>=0.10 in /software/jupyter/conda/envs/tf-gpu/lib/python3.9/site-packages (from matplotlib!=3.6.1,>=3.1->seaborn) (0.11.0)\n",
      "Requirement already satisfied: pillow>=6.2.0 in /software/jupyter/conda/envs/tf-gpu/lib/python3.9/site-packages (from matplotlib!=3.6.1,>=3.1->seaborn) (9.4.0)\n",
      "Requirement already satisfied: kiwisolver>=1.0.1 in /software/jupyter/conda/envs/tf-gpu/lib/python3.9/site-packages (from matplotlib!=3.6.1,>=3.1->seaborn) (1.4.4)\n",
      "Requirement already satisfied: pyparsing>=2.2.1 in /software/jupyter/conda/envs/tf-gpu/lib/python3.9/site-packages (from matplotlib!=3.6.1,>=3.1->seaborn) (3.0.9)\n",
      "Requirement already satisfied: pytz>=2020.1 in /home/sc.uni-leipzig.de/az091jwou/.local/lib/python3.9/site-packages (from pandas>=0.25->seaborn) (2021.3)\n",
      "Requirement already satisfied: six>=1.5 in /software/jupyter/conda/envs/tf-gpu/lib/python3.9/site-packages (from python-dateutil>=2.7->matplotlib!=3.6.1,>=3.1->seaborn) (1.15.0)\n",
      "Note: you may need to restart the kernel to use updated packages.\n",
      "Defaulting to user installation because normal site-packages is not writeable\n",
      "Requirement already satisfied: jinja2 in /home/sc.uni-leipzig.de/az091jwou/.local/lib/python3.9/site-packages (3.1.2)\n",
      "Requirement already satisfied: MarkupSafe>=2.0 in /software/jupyter/conda/envs/tf-gpu/lib/python3.9/site-packages (from jinja2) (2.1.2)\n",
      "Note: you may need to restart the kernel to use updated packages.\n",
      "Defaulting to user installation because normal site-packages is not writeable\n",
      "Requirement already satisfied: imblearn in /home/sc.uni-leipzig.de/az091jwou/.local/lib/python3.9/site-packages (0.0)\n",
      "Requirement already satisfied: imbalanced-learn in /home/sc.uni-leipzig.de/az091jwou/.local/lib/python3.9/site-packages (from imblearn) (0.10.1)\n",
      "Requirement already satisfied: numpy>=1.17.3 in /home/sc.uni-leipzig.de/az091jwou/.local/lib/python3.9/site-packages (from imbalanced-learn->imblearn) (1.24.3)\n",
      "Requirement already satisfied: scipy>=1.3.2 in /software/jupyter/conda/envs/tf-gpu/lib/python3.9/site-packages (from imbalanced-learn->imblearn) (1.9.1)\n",
      "Requirement already satisfied: threadpoolctl>=2.0.0 in /home/sc.uni-leipzig.de/az091jwou/.local/lib/python3.9/site-packages (from imbalanced-learn->imblearn) (3.1.0)\n",
      "Requirement already satisfied: scikit-learn>=1.0.2 in /home/sc.uni-leipzig.de/az091jwou/.local/lib/python3.9/site-packages (from imbalanced-learn->imblearn) (1.2.2)\n",
      "Requirement already satisfied: joblib>=1.1.1 in /home/sc.uni-leipzig.de/az091jwou/.local/lib/python3.9/site-packages (from imbalanced-learn->imblearn) (1.2.0)\n",
      "Note: you may need to restart the kernel to use updated packages.\n",
      "Defaulting to user installation because normal site-packages is not writeable\n",
      "Requirement already satisfied: xgboost in /home/sc.uni-leipzig.de/az091jwou/.local/lib/python3.9/site-packages (1.7.5)\n",
      "Requirement already satisfied: numpy in /home/sc.uni-leipzig.de/az091jwou/.local/lib/python3.9/site-packages (from xgboost) (1.24.3)\n",
      "Requirement already satisfied: scipy in /software/jupyter/conda/envs/tf-gpu/lib/python3.9/site-packages (from xgboost) (1.9.1)\n",
      "Note: you may need to restart the kernel to use updated packages.\n",
      "Defaulting to user installation because normal site-packages is not writeable\n",
      "Requirement already satisfied: lightgbm in /home/sc.uni-leipzig.de/az091jwou/.local/lib/python3.9/site-packages (3.3.5)\n",
      "Requirement already satisfied: scikit-learn!=0.22.0 in /home/sc.uni-leipzig.de/az091jwou/.local/lib/python3.9/site-packages (from lightgbm) (1.2.2)\n",
      "Requirement already satisfied: numpy in /home/sc.uni-leipzig.de/az091jwou/.local/lib/python3.9/site-packages (from lightgbm) (1.24.3)\n",
      "Requirement already satisfied: wheel in /software/jupyter/conda/envs/tf-gpu/lib/python3.9/site-packages (from lightgbm) (0.38.4)\n",
      "Requirement already satisfied: scipy in /software/jupyter/conda/envs/tf-gpu/lib/python3.9/site-packages (from lightgbm) (1.9.1)\n",
      "Requirement already satisfied: threadpoolctl>=2.0.0 in /home/sc.uni-leipzig.de/az091jwou/.local/lib/python3.9/site-packages (from scikit-learn!=0.22.0->lightgbm) (3.1.0)\n",
      "Requirement already satisfied: joblib>=1.1.1 in /home/sc.uni-leipzig.de/az091jwou/.local/lib/python3.9/site-packages (from scikit-learn!=0.22.0->lightgbm) (1.2.0)\n",
      "Note: you may need to restart the kernel to use updated packages.\n"
     ]
    }
   ],
   "source": [
    "%pip install pandas\n",
    "%pip install numpy\n",
    "%pip install matplotlib\n",
    "%pip install scikit-learn\n",
    "%pip install seaborn\n",
    "%pip install jinja2\n",
    "%pip install imblearn\n",
    "%pip install xgboost\n",
    "%pip install lightgbm"
   ]
  },
  {
   "cell_type": "code",
   "execution_count": 1,
   "id": "574f1d4d-de01-46a4-a35e-150cf2403b42",
   "metadata": {},
   "outputs": [
    {
     "name": "stderr",
     "output_type": "stream",
     "text": [
      "IProgress not found. Please update jupyter and ipywidgets. See https://ipywidgets.readthedocs.io/en/stable/user_install.html\n"
     ]
    }
   ],
   "source": [
    "import pandas as pd\n",
    "import os\n",
    "import numpy as np\n",
    "import matplotlib as mpl\n",
    "import matplotlib.pyplot as plt\n",
    "from sklearn import preprocessing\n",
    "from sklearn.linear_model import LogisticRegression\n",
    "from sklearn.feature_selection import RFE\n",
    "from sklearn import metrics\n",
    "from sklearn.metrics import confusion_matrix, classification_report,precision_score, log_loss, f1_score, accuracy_score, roc_auc_score, roc_curve, recall_score\n",
    "from sklearn.model_selection import RandomizedSearchCV, train_test_split, StratifiedKFold, cross_val_score, cross_validate\n",
    "from sklearn.compose import ColumnTransformer\n",
    "from sklearn.preprocessing import StandardScaler,OneHotEncoder\n",
    "from sklearn.calibration import CalibratedClassifierCV, calibration_curve\n",
    "from sklearn.pipeline import FeatureUnion\n",
    "from sklearn.base import BaseEstimator, TransformerMixin\n",
    "from imblearn.over_sampling import SMOTE\n",
    "from imblearn.pipeline import Pipeline\n",
    "from xgboost import XGBClassifier\n",
    "from lightgbm import LGBMClassifier\n",
    "import seaborn as sns\n",
    "from scipy.stats import uniform\n",
    "from sklearn.ensemble import RandomForestClassifier\n",
    "import pickle\n",
    "from IPython.display import display, Markdown\n",
    "import shap\n",
    "import lightgbm\n",
    "from xgboost import plot_importance\n",
    "\n",
    "sns.set(style=\"white\")\n",
    "sns.set(style=\"whitegrid\", color_codes=True)\n",
    "np.random.seed(31415)"
   ]
  },
  {
   "cell_type": "markdown",
   "id": "8e6afade-a78f-418c-8655-e2dc0d1e4cb9",
   "metadata": {
    "tags": []
   },
   "source": [
    "# Import Datasets and clean them - drop unused columns and fill empty values - drop rows with empty columns after cleaning "
   ]
  },
  {
   "cell_type": "code",
   "execution_count": 2,
   "id": "d7419fc7-668e-4fab-b4e4-c5b1c11b27ca",
   "metadata": {},
   "outputs": [
    {
     "name": "stdout",
     "output_type": "stream",
     "text": [
      "10\n",
      "10\n",
      "7\n",
      "1\n"
     ]
    }
   ],
   "source": [
    "## Import detailed Dataset\n",
    "detailed_shots = pd.read_csv('/home/sc.uni-leipzig.de/az091jwou/expected_goals_handball/Data/detailed_shots_dataset_new.csv')\n",
    "detailed_shots_clean = detailed_shots.drop(detailed_shots.columns[[0,5,6,7,8,3,11,12,13,14,17,18,20,21,22,23,25,33,34]] ,axis=1)\n",
    "## fill time_between_shots_s with 0 when the data is missing => happens to be at the forst shot of the game per team\n",
    "print(len(detailed_shots_clean[detailed_shots_clean['time_between_shots_s'].isna()]))\n",
    "detailed_shots_clean['time_between_shots_s'] = np.where(detailed_shots_clean['time_between_shots_s'].isna(), 0, detailed_shots_clean['time_between_shots_s'])\n",
    "## fill speed of the ball with mean for missing values\n",
    "detailed_shots_clean['speed_ball'] = np.where(detailed_shots_clean['speed_ball'].isna(), detailed_shots_clean['speed_ball'].mean(), detailed_shots_clean['speed_ball']) ## just fill this value so the records dont get deletet in the dataset\n",
    "## Fill player speed with mean for missing values\n",
    "print(len(detailed_shots_clean[detailed_shots_clean['player_speed'].isna()]))\n",
    "detailed_shots_clean['player_speed'] = np.where(detailed_shots_clean['player_speed'].isna(), detailed_shots_clean['player_speed'].mean(), detailed_shots_clean['player_speed'])\n",
    "detailed_shots_clean['powerplay'] = pd.Series(detailed_shots_clean['powerplay']).astype(\"boolean\")\n",
    "detailed_shots_clean['empty_net'] = pd.Series(detailed_shots_clean['empty_net']).astype(\"boolean\")\n",
    "## Delete Rows with missing data => 7 shots where no shooter could be assigned to gets removed\n",
    "if not detailed_shots_clean[detailed_shots_clean.isna().any(axis=1)].empty:\n",
    "    print(len(detailed_shots_clean[detailed_shots_clean.isna().any(axis=1)]))\n",
    "    detailed_shots_clean = detailed_shots_clean.dropna()\n",
    "\n",
    "categorical_shot_attributes_detailed = []\n",
    "numerical_shot_attributes_detailed = [\"distance\",\n",
    "                                      \"visible_angle\", \"angle_to_mid\", \"time_between_shots_s\", \"dist_closest_def\",\"shooter_goalkeeper_dist\", \"shot_goalkeeper_dist\",\n",
    "                                      \"shooter_goalkeeper_angle\", \"shot_goalkeeper_angle\",\n",
    "                                      \"player_speed\", \"number_of_passes\", \"ball_posession\",\"pressur_index\", \"players_in_shot_angle_from_shot\",\n",
    "                                      \"players_in_shot_angle_from_player\", \"powerplay\", \"empty_net\"]\n",
    "\n",
    "## Import simple Dataset\n",
    "simple_shots = pd.read_csv('/home/sc.uni-leipzig.de/az091jwou/expected_goals_handball/Data/simple_shots_dataset.csv')\n",
    "simple_shots_clean = simple_shots.drop(simple_shots.columns[[0,5,6,7,8,11,12,13,14,17,18,20,21,22,23,25,33,34]] ,axis=1)\n",
    "## fill time_between_shots_s with 0 when the data is missing => happens to be at the forst shot of the game per team\n",
    "simple_shots_clean['time_between_shots_s'] = np.where(simple_shots_clean['time_between_shots_s'].isna(), 0, simple_shots_clean['time_between_shots_s'])\n",
    "## fill speed of the ball with mean for missing values\n",
    "simple_shots_clean['speed_ball'] = np.where(simple_shots_clean['speed_ball'].isna(), simple_shots_clean['speed_ball'].mean(), simple_shots_clean['speed_ball']) ## just fill this value so the records dont get deletet in the dataset\n",
    "## Delete Rows with missing data => no rows withmissing data left\n",
    "if not simple_shots_clean[simple_shots_clean.isna().any(axis=1)].empty:\n",
    "    print(len(simple_shots_clean[simple_shots_clean.isna().any(axis=1)]))\n",
    "    simple_shots_clean = simple_shots_clean.dropna()\n",
    "\n",
    "categorical_shot_attributes_simple = []\n",
    "numerical_shot_attributes_simple = [\"distance\",\"visible_angle\", \"angle_to_mid\"]\n",
    "\n",
    "simple_dict = {\"dataset\": simple_shots_clean, \"cat_attr\": categorical_shot_attributes_simple, \"num_attr\": numerical_shot_attributes_simple, \"name\": \"simple\"}\n",
    "detailed_dict = {\"dataset\": detailed_shots_clean, \"cat_attr\": categorical_shot_attributes_detailed, \"num_attr\": numerical_shot_attributes_detailed, \"name\": \"detailed\"}\n",
    "datasets = [simple_dict, detailed_dict]"
   ]
  },
  {
   "cell_type": "code",
   "execution_count": 3,
   "id": "9f2bf32f-bd76-4fd0-ba87-a225eb62326f",
   "metadata": {},
   "outputs": [
    {
     "data": {
      "text/plain": [
       "Index(['Unnamed: 0', 'player_id', 'success', 'distance', 'speed_ball', 'id',\n",
       "       'league_id', 'team', 'match_id', 'merge_time_shots', 'halftime', 'home',\n",
       "       'norm_x_shot', 'norm_y_shot', 'visible_angle', 'angle_to_mid',\n",
       "       'time_between_shots_s', 'pressur_index', 'dist_closest_def',\n",
       "       'players_in_shot_angle_from_shot', 'players_in_shot_angle_from_player',\n",
       "       'powerplay', 'shooter_goalkeeper_dist', 'shot_goalkeeper_dist',\n",
       "       'shooter_goalkeeper_angle', 'shot_goalkeeper_angle', 'empty_net',\n",
       "       'player_speed', 'number_of_passes', 'ball_posession'],\n",
       "      dtype='object')"
      ]
     },
     "metadata": {},
     "output_type": "display_data"
    },
    {
     "data": {
      "text/plain": [
       "Index(['Unnamed: 0.1', 'Unnamed: 0', 'player_id', 'timestamp', 'success',\n",
       "       'hit_position_z', 'hit_position_y', 'shot_position_y',\n",
       "       'shot_position_x', 'distance', 'speed_ball', 'shot_type', 'game_clock',\n",
       "       'validated', 'goalkeeper_id', 'id', 'league_id', 'goalkeeper_league_id',\n",
       "       'action_id', 'team', 'last_group', 'event', 'updated_at', 'team_id',\n",
       "       'match_id', 'timestamp_dt', 'merge_time_shots', 'halftime', 'home',\n",
       "       'norm_x_shot', 'norm_y_shot', 'visible_angle', 'angle_to_mid',\n",
       "       'score_home', 'score_away', 'time_between_shots_s', 'pressur_index',\n",
       "       'dist_closest_def', 'players_in_shot_angle_from_shot',\n",
       "       'players_in_shot_angle_from_player', 'powerplay',\n",
       "       'shooter_goalkeeper_dist', 'shot_goalkeeper_dist',\n",
       "       'shooter_goalkeeper_angle', 'shot_goalkeeper_angle', 'empty_net',\n",
       "       'player_speed', 'number_of_passes', 'ball_posession'],\n",
       "      dtype='object')"
      ]
     },
     "metadata": {},
     "output_type": "display_data"
    }
   ],
   "source": [
    "display(detailed_shots_clean.columns)\n",
    "display(detailed_shots.columns)"
   ]
  },
  {
   "cell_type": "markdown",
   "id": "73ba0753-82d5-4c01-b2f1-312abe568d4b",
   "metadata": {
    "tags": []
   },
   "source": [
    "# Define Util Functions\n",
    "First define a pipeline to preprocess the data "
   ]
  },
  {
   "cell_type": "code",
   "execution_count": 4,
   "id": "6ec88570-231c-476a-bdc9-1e8604950086",
   "metadata": {},
   "outputs": [],
   "source": [
    "## Create DataFrame to store Results per Test and Evaluation per Dataset per Method\n",
    "result_df = pd.DataFrame(columns=[\"Dataset\", \"Classifier\", \"Comb\", \"log_loss_training\", \"auc_train\", ])\n",
    "eval_result_df = pd.DataFrame(columns=[\"Dataset\", \"Classifier\", \"Comb\", \"log_loss_test\", 'recall', 'f1','auc'])"
   ]
  },
  {
   "cell_type": "code",
   "execution_count": 5,
   "id": "f92dfbe4-a4ea-481a-860d-bcffe92ee7ee",
   "metadata": {},
   "outputs": [],
   "source": [
    "def make_training_report(scores, scores_auc):\n",
    "    print(\"###Validation Results###\")\n",
    "    print(\"training set results: {0}\".format(scores.max()))\n",
    "    print(\"training set auc results: {0}\".format(scores_auc.max()))\n",
    "    print(\"\")\n",
    "    \n",
    "def add_new_training_result(ds_name, classifier_name, comb, scores, scores_auc):\n",
    "    return pd.DataFrame({'Dataset': dataset_dict['name'], 'Classifier': classifier_name, 'Comb': comb, 'log_loss_training': scores.max(), \n",
    "                        'auc_train': scores_auc.max()\n",
    "                        }, index=[len(result_df)+1])\n",
    "\n",
    "def add_new_eval_result(ds_name, classifier_name, y_test, y_test_pred,y_test_pred_proba, comb):\n",
    "    return pd.DataFrame({'Dataset': ds_name, 'Classifier': classifier_name, 'Comb': comb, 'log_loss_test': log_loss(y_test, y_test_pred_proba, normalize=True),\n",
    "                      'recall': recall_score(y_test, y_test_pred) , 'f1': f1_score(y_test, y_test_pred), 'auc': roc_auc_score(y_test, y_test_pred_proba[:, 1])\n",
    "                }, index=[len(eval_result_df)+1])\n",
    "    \n",
    "def full_pipeline(comb, X_train, y_train, X_test, y_test, numeric_features,categorical_features, clf, hyperparameter_dist, result_df, eval_result_df, scoring=\"f1\", n_iter=20, rfe=False, os=False, \n",
    "                  n_features_to_select=None, log=False, save=False, calibration=False, cv=10):\n",
    "    ## Select all Features and standarize them => categorial gets passed through\n",
    "    preprocessor = ColumnTransformer(\n",
    "    transformers=[('scaler', StandardScaler(), numeric_features),\n",
    "                     (('cat', OneHotEncoder(), categorical_features))])\n",
    "    steps=[('preprocessor', preprocessor)]\n",
    "\n",
    "    ## Do a Feature Selection after standardization\n",
    "    if rfe:\n",
    "        selector = RFE(clf, n_features_to_select=n_features_to_select, step=1)\n",
    "        steps.append(('selector',selector))\n",
    "    ## Do Oversampling after RFE and standardization\n",
    "    if os:\n",
    "        smt = SMOTE(random_state=0)\n",
    "        steps.append(('oversampling', smt))\n",
    "    steps.append(('classifier', clf))\n",
    "    ## Create Pipeline with preprocessing steps\n",
    "    combined_pipeline = Pipeline(steps=steps)\n",
    "    \n",
    "    ## Hyperparameter Optimization and Validate the Training\n",
    "    print(\"Optimizing hyperparameters for {} model...\".format(type(clf).__name__))\n",
    "    k_cv = StratifiedKFold(cv)\n",
    "    random_search = RandomizedSearchCV(combined_pipeline, param_distributions=hyperparameter_dist, cv=k_cv, verbose=0, scoring=scoring, n_iter=n_iter, refit=True)\n",
    "    random_search.fit(X_train, y_train)\n",
    "    \n",
    "    best_clf = random_search.best_estimator_\n",
    "    scores = cross_val_score(best_clf, X_train, y_train, scoring=scoring, cv=k_cv)\n",
    "    scores_auc = cross_val_score(best_clf, X_train, y_train, scoring='roc_auc', cv=k_cv)\n",
    "    if len(categorical_features) > 0:\n",
    "        categorical_features = best_clf.named_steps['preprocessor'].transformers_[1][1].get_feature_names_out(categorical_features)\n",
    "    ## Get column Names selected\n",
    "    if rfe:\n",
    "        best_columns = [col for col, idx in zip(X_train.columns, best_clf.named_steps['selector'].support_) if idx]\n",
    "    else:\n",
    "        best_columns = list(numeric_features) + list(categorical_features)\n",
    "        \n",
    "    ## Print Training and Validation Results in the Console\n",
    "    if log:\n",
    "        print(\"Best hyperparameters {0}\".format(random_search.best_params_))\n",
    "        print(\"Best cross validation score {0}\\n\".format(random_search.best_score_))\n",
    "\n",
    "        print(best_columns)\n",
    "        make_training_report(scores, scores_auc)\n",
    "    \n",
    "    ## Add Training and Validation Results to a DataFrame\n",
    "    result = add_new_training_result(dataset_dict['name'], classifier_name, comb, scores, scores_auc)\n",
    "    result_df = pd.concat([result, result_df.loc[:]]).reset_index(drop=True)\n",
    "    \n",
    "    ## Evaluate the Model with the Testdataset\n",
    "    y_test_pred_proba = best_clf.predict_proba(X_test)\n",
    "    y_test_pred = best_clf.predict(X_test)\n",
    "    \n",
    "    ## Print evaluation Results to the console\n",
    "    if log:\n",
    "        make_eval_report(y_test,y_test_pred, y_test_pred_proba)\n",
    "        \n",
    "    ## Add Evaluation Results to a DataFrame\n",
    "    result = add_new_eval_result(dataset_dict['name'], classifier_name, y_test, y_test_pred, y_test_pred_proba, comb)    \n",
    "    eval_result_df = pd.concat([result, eval_result_df.loc[:]]).reset_index(drop=True)\n",
    "    \n",
    "    ## calibrate the model\n",
    "    if calibration:\n",
    "        ## Calibration Curve before Calibration\n",
    "        display(Markdown('#### Calibration curve before Calibration'))\n",
    "        make_report(y_test, y_test_pred_proba[:,1], comb, dataset_dict['name'],classifier_name)\n",
    "        plot_sliced_auc(sliced_auc(y_test_pred_proba[:,1],  np.array(y_test), 10), dataset_dict['name'],comb, classifier_name)\n",
    "        if rfe:\n",
    "            x_train_pre = best_clf.named_steps['selector'].transform(best_clf.named_steps['preprocessor'].transform(X_train))\n",
    "            x_feature_imp = best_clf.named_steps['selector'].transform(best_clf.named_steps['preprocessor'].transform(X))\n",
    "            x_test_pre = best_clf.named_steps['selector'].transform(best_clf.named_steps['preprocessor'].transform(X_test))\n",
    "        else:\n",
    "            x_train_pre = best_clf.named_steps['preprocessor'].transform(X_train)\n",
    "            x_feature_imp = best_clf.named_steps['preprocessor'].transform(X)\n",
    "            x_test_pre = best_clf.named_steps['preprocessor'].transform(X_test)\n",
    "        plot_feature_importance(best_clf.named_steps['classifier'], x_feature_imp, best_columns, dataset_dict['name'], comb)\n",
    "        \n",
    "        ## Calibration Curve after isotonic Calibration\n",
    "        display(Markdown('#### Calibration curve after isotonic Calibration'))\n",
    "        cv_iso = CalibratedClassifierCV(best_clf.named_steps['classifier'], method='isotonic', cv=k_cv).fit(x_train_pre, y_train)\n",
    "        pred_proba_cv = cv_iso.predict_proba(x_test_pre)[:,1]\n",
    "        make_report(y_test, pred_proba_cv, comb, dataset_dict['name'],classifier_name, 'isotonic')\n",
    "        plot_sliced_auc(sliced_auc(pred_proba_cv,  np.array(y_test), 10), dataset_dict['name'],comb, classifier_name, 'isotonic')\n",
    "        plot_feature_importance(cv_iso.calibrated_classifiers_[0].estimator, x_feature_imp, best_columns,dataset_dict['name'], comb,'isotonic')\n",
    "        \n",
    "        ## Calibration Curve after sigmoid (or Platts) Calibration\n",
    "        display(Markdown('#### Calibration curve after sigmoid Calibration'))\n",
    "        cv_sig = CalibratedClassifierCV(best_clf.named_steps['classifier'], cv=\"prefit\").fit(x_train_pre, y_train)\n",
    "        pred_proba_cv = cv_sig.predict_proba(x_test_pre)[:,1]\n",
    "        make_report(y_test, pred_proba_cv, comb, dataset_dict['name'],classifier_name, 'sigmoid')\n",
    "        plot_sliced_auc(sliced_auc(pred_proba_cv,  np.array(y_test), 10), dataset_dict['name'],comb, classifier_name, 'sigmoid')\n",
    "        plot_feature_importance(cv_sig.calibrated_classifiers_[0].estimator,x_feature_imp, best_columns,dataset_dict['name'], comb, 'sigmoid')\n",
    "    \n",
    "    ## save Model as a file\n",
    "    if save:\n",
    "        filename = \"/home/sc.uni-leipzig.de/az091jwou/expected_goals_handball/Models/{}/{}.sav\".format(dataset_dict['name'], comb+'_test_'+classifier_name)\n",
    "        pickle.dump(best_clf, open(filename, 'wb'))\n",
    "        filename = \"/home/sc.uni-leipzig.de/az091jwou/expected_goals_handball/Models/{}/{}.sav\".format(dataset_dict['name'], comb+'_iso_'+classifier_name)\n",
    "        pickle.dump(cv_iso,open(filename,'wb'))\n",
    "        filename = \"/home/sc.uni-leipzig.de/az091jwou/expected_goals_handball/Models/{}/{}.sav\".format(dataset_dict['name'], comb+'_sig_'+classifier_name)\n",
    "        pickle.dump(cv_sig,open(filename,'wb'))\n",
    "        \n",
    "    return pd.DataFrame(random_search.cv_results_), best_clf, combined_pipeline, result_df, eval_result_df\n",
    "\n",
    "def make_eval_report(y_test, y_test_pred, y_test_pred_proba):\n",
    "    print(\"###Evaluation Results###\")\n",
    "    print(\"test set log loss results: {0}\".format(log_loss(y_test, y_test_pred_proba, normalize=True)))\n",
    "    print(\"test set auc results: {0}\".format(roc_auc_score(y_test, y_test_pred_proba[:, 1])))\n",
    "    print(confusion_matrix(y_test, y_test_pred))\n",
    "    print(classification_report(y_test, y_test_pred))\n",
    "    print(\"\")\n",
    "\n",
    "def create_classifier_dict():\n",
    "    return {\n",
    "        'lightgbm'      : (LGBMClassifier(),                    [{\"classifier__max_depth\" :  np.arange(1, 15),\"classifier__num_leaves\" :  np.arange(0, 200),\"classifier__learning_rate\" : uniform(0, 0.5)}]),\n",
    "        'xgboost'       : (XGBClassifier(),                     [{\"classifier__max_depth\" :  np.arange(1, 15),\"classifier__max_leaves\" :  np.arange(0, 200),\"classifier__eta\" : uniform(0, 1)}]),\n",
    "        'logistic_reg'  : (LogisticRegression(max_iter=10000),  [{\"classifier__C\" : uniform(0, 20000)}]),\n",
    "        'random_forest' : (RandomForestClassifier(n_jobs=2),    [{\"classifier__n_estimators\" : np.arange(1, 200), \"classifier__max_depth\": np.arange(1,15), \"classifier__max_leaf_nodes\": np.arange(0,200)}])\n",
    "    }\n",
    "\n",
    "def ece(y_test, preds, strategy = 'uniform'):\n",
    "    ## taken from https://www.kaggle.com/code/mateuscco/how-to-evaluate-model-calibration\n",
    "    df = pd.DataFrame({'target': y_test, 'proba': preds, 'bin': np.nan})\n",
    "    \n",
    "    if(strategy == 'uniform'):\n",
    "        lim_inf = np.linspace(0, 0.9, 10)\n",
    "        for idx, lim in enumerate(lim_inf):\n",
    "            df.loc[df['proba'] >= lim, 'bin'] = idx\n",
    "\n",
    "    elif(strategy == 'quantile'):\n",
    "        pass\n",
    "    \n",
    "    df_bin_groups = pd.concat([df.groupby('bin').mean(), df['bin'].value_counts()], axis = 1)\n",
    "    df_bin_groups['ece'] = (df_bin_groups['target'] - df_bin_groups['proba']).abs() * (df_bin_groups['bin'] / df.shape[0])\n",
    "    return df_bin_groups['ece'].sum()\n",
    "\n",
    "def make_report(y_test, preds, comb, dataset_name, clf_name, calibration=''):\n",
    "    ##taken from https://www.kaggle.com/code/mateuscco/how-to-evaluate-model-calibration\n",
    "    # Computing AUC\n",
    "    auc = roc_auc_score(y_test, preds)\n",
    "    log_loss_class = log_loss(y_test, preds, normalize=True)\n",
    "    display(Markdown(f'AUROC: {auc}'))\n",
    "    display(Markdown(f'Gini: {2*auc-1}')) # Gini\n",
    "    display(Markdown(f'Fraction of positive cases in the test set: {y_test.mean()}'))\n",
    "    display(Markdown(f'Mean predicted value in the test set:       {preds.mean()}'))\n",
    "    display(Markdown(f'ECE (equal width bins):       {ece(y_test, preds)}'))\n",
    "    display(Markdown(f'test set log loss results: {log_loss_class}'))\n",
    "    \n",
    "    # Plotting probabilities\n",
    "    plt.clf()\n",
    "    display(Markdown('#### Histogram of the probability distribution'))\n",
    "    sns.histplot(preds)\n",
    "    # plt.show()\n",
    "    plt.savefig(\"/home/sc.uni-leipzig.de/az091jwou/expected_goals_handball/Pictures/{}/{}_histo_prob_{}.png\".format(dataset_name, comb+'_'+calibration,clf_name))\n",
    "    \n",
    "    # Plotting KDE by class\n",
    "    plt.clf()\n",
    "    display(Markdown('#### KDE plots of the probability distribution by class'))\n",
    "    fig, ax1 = plt.subplots()\n",
    "    sns.kdeplot(preds[y_test == 0], label = 'No Goal', ax = ax1)\n",
    "    ax2 = ax1.twinx()\n",
    "    sns.kdeplot(preds[y_test == 1], label = 'Goal', color = 'red', ax = ax2)\n",
    "    lines, labels = ax1.get_legend_handles_labels()\n",
    "    lines2, labels2 = ax2.get_legend_handles_labels()\n",
    "    ax2.legend(lines + lines2, labels + labels2, loc=0)\n",
    "    # plt.show()\n",
    "    plt.savefig(\"/home/sc.uni-leipzig.de/az091jwou/expected_goals_handball/Pictures/{}/{}_kde_{}.png\".format(dataset_name, comb+'_'+calibration,clf_name))\n",
    "    \n",
    "    # Plotting calibration\n",
    "    plt.clf()\n",
    "    display(Markdown('#### Calibration curve (equal width bins)'))\n",
    "    fop, mpv = calibration_curve(y_test, preds, n_bins=10)\n",
    "    plt.plot(mpv, fop, \"s-\", label='model')\n",
    "    plt.plot([0,1],[0,1], label='ideal')\n",
    "    plt.xlabel('Mean predicted value')\n",
    "    plt.ylabel('Fraction of positives')\n",
    "    plt.legend()\n",
    "    # plt.show()\n",
    "    plt.savefig(\"/home/sc.uni-leipzig.de/az091jwou/expected_goals_handball/Pictures/{}/{}_calibration_eq_width_{}.png\".format(dataset_name, comb+'_'+calibration,clf_name))\n",
    "    \n",
    "    plt.clf()\n",
    "    display(Markdown('#### Calibration curve (equal size bins)'))\n",
    "    fop, mpv = calibration_curve(y_test, preds, n_bins=10, strategy='quantile')\n",
    "    plt.plot(mpv, fop, \"s-\", label='model')\n",
    "    plt.plot([0,1],[0,1], label='ideal')\n",
    "    plt.xlabel('Mean predicted value')\n",
    "    plt.ylabel('Fraction of positives')\n",
    "    plt.legend()\n",
    "    # plt.show()\n",
    "    plt.savefig(\"/home/sc.uni-leipzig.de/az091jwou/expected_goals_handball/Pictures/{}/{}_calibration_eq_size_{}.png\".format(dataset_name, comb+'_'+calibration,clf_name))\n",
    "    \n",
    "def sliced_auc(preds, y_test, bins):\n",
    "    df = pd.concat([pd.Series(preds), pd.Series(y_test)], axis=1, keys=['proba', 'label'])\n",
    "    df['decile'] = pd.qcut(df['proba'], bins, duplicates='drop')\n",
    "    decile_dict = df.groupby('decile').groups\n",
    "    try:\n",
    "        decile_dict = {k: roc_auc_score(df.loc[v, 'label'], df.loc[v, 'proba']) for k, v in decile_dict.items()}\n",
    "    except:\n",
    "        return None\n",
    "    return decile_dict\n",
    "\n",
    "def plot_sliced_auc(auc_dict, dataset_name, comb,clf_name, calibration=''):\n",
    "    ## taken from https://www.kaggle.com/code/mateuscco/how-to-evaluate-model-calibration\n",
    "    if auc_dict == None:\n",
    "        return\n",
    "    plt.figure(figsize=(10,6))\n",
    "    sns.barplot(\n",
    "        x = list(map(lambda x: x.right, auc_dict.keys())), \n",
    "        y = list(auc_dict.values()),\n",
    "        color = 'cornflowerblue'\n",
    "    )\n",
    "    plt.xlabel('Mid value of the deciles')\n",
    "    plt.ylabel('AUC')\n",
    "    plt.ylim(0, 1)\n",
    "    # plt.show()\n",
    "    plt.savefig(\"/home/sc.uni-leipzig.de/az091jwou/expected_goals_handball/Pictures/{}/{}_sliced_auc_{}.png\".format(dataset_name, comb+'_'+calibration,clf_name))\n",
    "    \n",
    "def plot_feature_importance(clf, X, feature_names, dataset_name, comb, calibration=''):\n",
    "    if (clf.__class__.__name__ == 'LGBMClassifier'):\n",
    "        plt.clf()\n",
    "        explainer = shap.TreeExplainer(clf)\n",
    "        shap_values = explainer.shap_values(X)\n",
    "        shap.summary_plot(shap_values, X, feature_names=feature_names, show=False)\n",
    "        plt.savefig(\"/home/sc.uni-leipzig.de/az091jwou/expected_goals_handball/Pictures/{}/{}_shap_sum_{}.png\".format(dataset_name, comb+'_'+calibration,clf.__class__.__name__))\n",
    "        # shap.summary_plot(shap_values, X)\n",
    "        \n",
    "        plt.clf()\n",
    "        lightgbm.plot_importance(clf)\n",
    "        plt.savefig(\"/home/sc.uni-leipzig.de/az091jwou/expected_goals_handball/Pictures/{}/{}_feature_imp_{}.png\".format(dataset_name, comb+'_'+calibration,clf.__class__.__name__))\n",
    "        # plt.show()\n",
    "    if (clf.__class__.__name__ == 'XGBClassifier'):\n",
    "        plt.clf()\n",
    "        explainer = shap.TreeExplainer(clf)\n",
    "        shap_values = explainer.shap_values(X)\n",
    "        shap.summary_plot(shap_values, X, feature_names=feature_names, show=False)\n",
    "        plt.savefig(\"/home/sc.uni-leipzig.de/az091jwou/expected_goals_handball/Pictures/{}/{}_shap_sum_{}.png\".format(dataset_name, comb+'_'+calibration,clf.__class__.__name__))\n",
    "        # shap.summary_plot(shap_values, X)\n",
    "        \n",
    "        plt.clf()\n",
    "        plot_importance(clf)\n",
    "        plt.savefig(\"/home/sc.uni-leipzig.de/az091jwou/expected_goals_handball/Pictures/{}/{}_feature_imp_{}.png\".format(dataset_name, comb+'_'+calibration,clf.__class__.__name__))\n",
    "        # plt.show()\n",
    "    if (clf.__class__.__name__ == 'RandomForestClassifier'):\n",
    "        plt.clf()\n",
    "        explainer = shap.TreeExplainer(clf)\n",
    "        shap_values = explainer.shap_values(X)\n",
    "        shap.summary_plot(shap_values, X, feature_names=feature_names, show=False)\n",
    "        plt.savefig(\"/home/sc.uni-leipzig.de/az091jwou/expected_goals_handball/Pictures/{}/{}_shap_sum_{}.png\".format(dataset_name, comb+'_'+calibration,clf.__class__.__name__))\n",
    "        # shap.summary_plot(shap_values, X)\n",
    "    if (clf.__class__.__name__ == 'LogisticRegression'):\n",
    "        plt.clf()\n",
    "        coefficients = clf.coef_[0]\n",
    "        feature_importance = pd.DataFrame({'Feature': feature_names, 'Importance': np.abs(coefficients)})\n",
    "        feature_importance = feature_importance.sort_values('Importance', ascending=True)\n",
    "        plot = feature_importance.plot(x='Feature', y='Importance', kind='barh', figsize=(10, 6))\n",
    "        fig = plot.get_figure()\n",
    "        fig.savefig(\"/home/sc.uni-leipzig.de/az091jwou/expected_goals_handball/Pictures/{}/{}_shap_sum_{}.png\".format(dataset_name, comb+'_'+calibration,clf.__class__.__name__))"
   ]
  },
  {
   "cell_type": "markdown",
   "id": "a486567e-b247-49c4-b31f-0872090be4d2",
   "metadata": {
    "tags": []
   },
   "source": [
    "# Simple Dataset\n",
    "load Dataset and split it into 3 parts"
   ]
  },
  {
   "cell_type": "code",
   "execution_count": 6,
   "id": "8573563b-3460-4908-a33d-be9ac7c9138e",
   "metadata": {},
   "outputs": [],
   "source": [
    "## loads the dataset\n",
    "dataset_dict = datasets[0] ##simple Dataset\n",
    "dataset = dataset_dict.get(\"dataset\")\n",
    "\n",
    "## split dataset in feature and target\n",
    "X = dataset.loc[:, dataset.columns != 'success']\n",
    "y = dataset['success']\n",
    "\n",
    "## split dataset in test, validation and training dataset\n",
    "X_train, X_test, y_train, y_test = train_test_split(X, y, stratify=y, test_size=0.2)"
   ]
  },
  {
   "cell_type": "markdown",
   "id": "e7782a79-0219-4aac-b9c3-f0c9bbb41cfb",
   "metadata": {
    "tags": []
   },
   "source": [
    "## Create Models for the simple Dataset as Baseline"
   ]
  },
  {
   "cell_type": "code",
   "execution_count": 8,
   "id": "1be5fd08-0263-46b0-aa00-4a1774fdfe2f",
   "metadata": {},
   "outputs": [
    {
     "name": "stdout",
     "output_type": "stream",
     "text": [
      "Optimizing hyperparameters for LGBMClassifier model...\n",
      "Best hyperparameters {'classifier__learning_rate': 0.3986097250972824, 'classifier__max_depth': 1, 'classifier__num_leaves': 46}\n",
      "Best cross validation score -0.6260102942767861\n",
      "\n",
      "['distance', 'visible_angle', 'angle_to_mid']\n",
      "###Validation Results###\n",
      "training set results: -0.6024287520975565\n",
      "training set auc results: 0.6984344658474011\n",
      "\n",
      "###Evaluation Results###\n",
      "test set log loss results: 0.6245684851522655\n",
      "test set auc results: 0.646166261055044\n",
      "[[ 327  678]\n",
      " [ 277 1477]]\n",
      "              precision    recall  f1-score   support\n",
      "\n",
      "           0       0.54      0.33      0.41      1005\n",
      "           1       0.69      0.84      0.76      1754\n",
      "\n",
      "    accuracy                           0.65      2759\n",
      "   macro avg       0.61      0.58      0.58      2759\n",
      "weighted avg       0.63      0.65      0.63      2759\n",
      "\n",
      "\n"
     ]
    },
    {
     "data": {
      "text/markdown": [
       "#### Calibration curve before Calibration"
      ],
      "text/plain": [
       "<IPython.core.display.Markdown object>"
      ]
     },
     "metadata": {},
     "output_type": "display_data"
    },
    {
     "data": {
      "text/markdown": [
       "AUROC: 0.646166261055044"
      ],
      "text/plain": [
       "<IPython.core.display.Markdown object>"
      ]
     },
     "metadata": {},
     "output_type": "display_data"
    },
    {
     "data": {
      "text/markdown": [
       "Gini: 0.2923325221100881"
      ],
      "text/plain": [
       "<IPython.core.display.Markdown object>"
      ]
     },
     "metadata": {},
     "output_type": "display_data"
    },
    {
     "data": {
      "text/markdown": [
       "Fraction of positive cases in the test set: 0.6357375860819138"
      ],
      "text/plain": [
       "<IPython.core.display.Markdown object>"
      ]
     },
     "metadata": {},
     "output_type": "display_data"
    },
    {
     "data": {
      "text/markdown": [
       "Mean predicted value in the test set:       0.6355538483497729"
      ],
      "text/plain": [
       "<IPython.core.display.Markdown object>"
      ]
     },
     "metadata": {},
     "output_type": "display_data"
    },
    {
     "data": {
      "text/markdown": [
       "ECE (equal width bins):       0.018022930530295102"
      ],
      "text/plain": [
       "<IPython.core.display.Markdown object>"
      ]
     },
     "metadata": {},
     "output_type": "display_data"
    },
    {
     "data": {
      "text/markdown": [
       "test set log loss results: 0.6245684851522655"
      ],
      "text/plain": [
       "<IPython.core.display.Markdown object>"
      ]
     },
     "metadata": {},
     "output_type": "display_data"
    },
    {
     "data": {
      "text/markdown": [
       "#### Histogram of the probability distribution"
      ],
      "text/plain": [
       "<IPython.core.display.Markdown object>"
      ]
     },
     "metadata": {},
     "output_type": "display_data"
    },
    {
     "data": {
      "text/markdown": [
       "#### KDE plots of the probability distribution by class"
      ],
      "text/plain": [
       "<IPython.core.display.Markdown object>"
      ]
     },
     "metadata": {},
     "output_type": "display_data"
    },
    {
     "data": {
      "text/markdown": [
       "#### Calibration curve (equal width bins)"
      ],
      "text/plain": [
       "<IPython.core.display.Markdown object>"
      ]
     },
     "metadata": {},
     "output_type": "display_data"
    },
    {
     "data": {
      "text/markdown": [
       "#### Calibration curve (equal size bins)"
      ],
      "text/plain": [
       "<IPython.core.display.Markdown object>"
      ]
     },
     "metadata": {},
     "output_type": "display_data"
    },
    {
     "name": "stderr",
     "output_type": "stream",
     "text": [
      "LightGBM binary classifier with TreeExplainer shap values output has changed to a list of ndarray\n"
     ]
    },
    {
     "data": {
      "text/markdown": [
       "#### Calibration curve after isotonic Calibration"
      ],
      "text/plain": [
       "<IPython.core.display.Markdown object>"
      ]
     },
     "metadata": {},
     "output_type": "display_data"
    },
    {
     "data": {
      "text/markdown": [
       "AUROC: 0.6482893400727264"
      ],
      "text/plain": [
       "<IPython.core.display.Markdown object>"
      ]
     },
     "metadata": {},
     "output_type": "display_data"
    },
    {
     "data": {
      "text/markdown": [
       "Gini: 0.29657868014545286"
      ],
      "text/plain": [
       "<IPython.core.display.Markdown object>"
      ]
     },
     "metadata": {},
     "output_type": "display_data"
    },
    {
     "data": {
      "text/markdown": [
       "Fraction of positive cases in the test set: 0.6357375860819138"
      ],
      "text/plain": [
       "<IPython.core.display.Markdown object>"
      ]
     },
     "metadata": {},
     "output_type": "display_data"
    },
    {
     "data": {
      "text/markdown": [
       "Mean predicted value in the test set:       0.6361981999108358"
      ],
      "text/plain": [
       "<IPython.core.display.Markdown object>"
      ]
     },
     "metadata": {},
     "output_type": "display_data"
    },
    {
     "data": {
      "text/markdown": [
       "ECE (equal width bins):       0.017604620623909977"
      ],
      "text/plain": [
       "<IPython.core.display.Markdown object>"
      ]
     },
     "metadata": {},
     "output_type": "display_data"
    },
    {
     "data": {
      "text/markdown": [
       "test set log loss results: 0.6241343436217031"
      ],
      "text/plain": [
       "<IPython.core.display.Markdown object>"
      ]
     },
     "metadata": {},
     "output_type": "display_data"
    },
    {
     "data": {
      "text/markdown": [
       "#### Histogram of the probability distribution"
      ],
      "text/plain": [
       "<IPython.core.display.Markdown object>"
      ]
     },
     "metadata": {},
     "output_type": "display_data"
    },
    {
     "data": {
      "text/markdown": [
       "#### KDE plots of the probability distribution by class"
      ],
      "text/plain": [
       "<IPython.core.display.Markdown object>"
      ]
     },
     "metadata": {},
     "output_type": "display_data"
    },
    {
     "data": {
      "text/markdown": [
       "#### Calibration curve (equal width bins)"
      ],
      "text/plain": [
       "<IPython.core.display.Markdown object>"
      ]
     },
     "metadata": {},
     "output_type": "display_data"
    },
    {
     "data": {
      "text/markdown": [
       "#### Calibration curve (equal size bins)"
      ],
      "text/plain": [
       "<IPython.core.display.Markdown object>"
      ]
     },
     "metadata": {},
     "output_type": "display_data"
    },
    {
     "name": "stderr",
     "output_type": "stream",
     "text": [
      "LightGBM binary classifier with TreeExplainer shap values output has changed to a list of ndarray\n"
     ]
    },
    {
     "data": {
      "text/markdown": [
       "#### Calibration curve after sigmoid Calibration"
      ],
      "text/plain": [
       "<IPython.core.display.Markdown object>"
      ]
     },
     "metadata": {},
     "output_type": "display_data"
    },
    {
     "data": {
      "text/markdown": [
       "AUROC: 0.646166261055044"
      ],
      "text/plain": [
       "<IPython.core.display.Markdown object>"
      ]
     },
     "metadata": {},
     "output_type": "display_data"
    },
    {
     "data": {
      "text/markdown": [
       "Gini: 0.2923325221100881"
      ],
      "text/plain": [
       "<IPython.core.display.Markdown object>"
      ]
     },
     "metadata": {},
     "output_type": "display_data"
    },
    {
     "data": {
      "text/markdown": [
       "Fraction of positive cases in the test set: 0.6357375860819138"
      ],
      "text/plain": [
       "<IPython.core.display.Markdown object>"
      ]
     },
     "metadata": {},
     "output_type": "display_data"
    },
    {
     "data": {
      "text/markdown": [
       "Mean predicted value in the test set:       0.6354398237457811"
      ],
      "text/plain": [
       "<IPython.core.display.Markdown object>"
      ]
     },
     "metadata": {},
     "output_type": "display_data"
    },
    {
     "data": {
      "text/markdown": [
       "ECE (equal width bins):       0.020158063304255017"
      ],
      "text/plain": [
       "<IPython.core.display.Markdown object>"
      ]
     },
     "metadata": {},
     "output_type": "display_data"
    },
    {
     "data": {
      "text/markdown": [
       "test set log loss results: 0.6249171326858477"
      ],
      "text/plain": [
       "<IPython.core.display.Markdown object>"
      ]
     },
     "metadata": {},
     "output_type": "display_data"
    },
    {
     "data": {
      "text/markdown": [
       "#### Histogram of the probability distribution"
      ],
      "text/plain": [
       "<IPython.core.display.Markdown object>"
      ]
     },
     "metadata": {},
     "output_type": "display_data"
    },
    {
     "data": {
      "text/markdown": [
       "#### KDE plots of the probability distribution by class"
      ],
      "text/plain": [
       "<IPython.core.display.Markdown object>"
      ]
     },
     "metadata": {},
     "output_type": "display_data"
    },
    {
     "data": {
      "text/markdown": [
       "#### Calibration curve (equal width bins)"
      ],
      "text/plain": [
       "<IPython.core.display.Markdown object>"
      ]
     },
     "metadata": {},
     "output_type": "display_data"
    },
    {
     "data": {
      "text/markdown": [
       "#### Calibration curve (equal size bins)"
      ],
      "text/plain": [
       "<IPython.core.display.Markdown object>"
      ]
     },
     "metadata": {},
     "output_type": "display_data"
    },
    {
     "name": "stderr",
     "output_type": "stream",
     "text": [
      "LightGBM binary classifier with TreeExplainer shap values output has changed to a list of ndarray\n"
     ]
    },
    {
     "name": "stdout",
     "output_type": "stream",
     "text": [
      "Optimizing hyperparameters for XGBClassifier model...\n",
      "Best hyperparameters {'classifier__eta': 0.6475091875352526, 'classifier__max_depth': 1, 'classifier__max_leaves': 79}\n",
      "Best cross validation score -0.6274972598579167\n",
      "\n",
      "['distance', 'visible_angle', 'angle_to_mid']\n",
      "###Validation Results###\n",
      "training set results: -0.602472167992859\n",
      "training set auc results: 0.6964199656985726\n",
      "\n",
      "###Evaluation Results###\n",
      "test set log loss results: 0.625857331017524\n",
      "test set auc results: 0.64294661243384\n",
      "[[ 343  662]\n",
      " [ 292 1462]]\n",
      "              precision    recall  f1-score   support\n",
      "\n",
      "           0       0.54      0.34      0.42      1005\n",
      "           1       0.69      0.83      0.75      1754\n",
      "\n",
      "    accuracy                           0.65      2759\n",
      "   macro avg       0.61      0.59      0.59      2759\n",
      "weighted avg       0.63      0.65      0.63      2759\n",
      "\n",
      "\n"
     ]
    },
    {
     "data": {
      "text/markdown": [
       "#### Calibration curve before Calibration"
      ],
      "text/plain": [
       "<IPython.core.display.Markdown object>"
      ]
     },
     "metadata": {},
     "output_type": "display_data"
    },
    {
     "data": {
      "text/markdown": [
       "AUROC: 0.64294661243384"
      ],
      "text/plain": [
       "<IPython.core.display.Markdown object>"
      ]
     },
     "metadata": {},
     "output_type": "display_data"
    },
    {
     "data": {
      "text/markdown": [
       "Gini: 0.28589322486768"
      ],
      "text/plain": [
       "<IPython.core.display.Markdown object>"
      ]
     },
     "metadata": {},
     "output_type": "display_data"
    },
    {
     "data": {
      "text/markdown": [
       "Fraction of positive cases in the test set: 0.6357375860819138"
      ],
      "text/plain": [
       "<IPython.core.display.Markdown object>"
      ]
     },
     "metadata": {},
     "output_type": "display_data"
    },
    {
     "data": {
      "text/markdown": [
       "Mean predicted value in the test set:       0.6348076462745667"
      ],
      "text/plain": [
       "<IPython.core.display.Markdown object>"
      ]
     },
     "metadata": {},
     "output_type": "display_data"
    },
    {
     "data": {
      "text/markdown": [
       "ECE (equal width bins):       0.008039125479317595"
      ],
      "text/plain": [
       "<IPython.core.display.Markdown object>"
      ]
     },
     "metadata": {},
     "output_type": "display_data"
    },
    {
     "data": {
      "text/markdown": [
       "test set log loss results: 0.625857331017524"
      ],
      "text/plain": [
       "<IPython.core.display.Markdown object>"
      ]
     },
     "metadata": {},
     "output_type": "display_data"
    },
    {
     "data": {
      "text/markdown": [
       "#### Histogram of the probability distribution"
      ],
      "text/plain": [
       "<IPython.core.display.Markdown object>"
      ]
     },
     "metadata": {},
     "output_type": "display_data"
    },
    {
     "data": {
      "text/markdown": [
       "#### KDE plots of the probability distribution by class"
      ],
      "text/plain": [
       "<IPython.core.display.Markdown object>"
      ]
     },
     "metadata": {},
     "output_type": "display_data"
    },
    {
     "data": {
      "text/markdown": [
       "#### Calibration curve (equal width bins)"
      ],
      "text/plain": [
       "<IPython.core.display.Markdown object>"
      ]
     },
     "metadata": {},
     "output_type": "display_data"
    },
    {
     "data": {
      "text/markdown": [
       "#### Calibration curve (equal size bins)"
      ],
      "text/plain": [
       "<IPython.core.display.Markdown object>"
      ]
     },
     "metadata": {},
     "output_type": "display_data"
    },
    {
     "data": {
      "text/markdown": [
       "#### Calibration curve after isotonic Calibration"
      ],
      "text/plain": [
       "<IPython.core.display.Markdown object>"
      ]
     },
     "metadata": {},
     "output_type": "display_data"
    },
    {
     "data": {
      "text/markdown": [
       "AUROC: 0.6439921260289204"
      ],
      "text/plain": [
       "<IPython.core.display.Markdown object>"
      ]
     },
     "metadata": {},
     "output_type": "display_data"
    },
    {
     "data": {
      "text/markdown": [
       "Gini: 0.28798425205784084"
      ],
      "text/plain": [
       "<IPython.core.display.Markdown object>"
      ]
     },
     "metadata": {},
     "output_type": "display_data"
    },
    {
     "data": {
      "text/markdown": [
       "Fraction of positive cases in the test set: 0.6357375860819138"
      ],
      "text/plain": [
       "<IPython.core.display.Markdown object>"
      ]
     },
     "metadata": {},
     "output_type": "display_data"
    },
    {
     "data": {
      "text/markdown": [
       "Mean predicted value in the test set:       0.6353440591461225"
      ],
      "text/plain": [
       "<IPython.core.display.Markdown object>"
      ]
     },
     "metadata": {},
     "output_type": "display_data"
    },
    {
     "data": {
      "text/markdown": [
       "ECE (equal width bins):       0.01730921483285064"
      ],
      "text/plain": [
       "<IPython.core.display.Markdown object>"
      ]
     },
     "metadata": {},
     "output_type": "display_data"
    },
    {
     "data": {
      "text/markdown": [
       "test set log loss results: 0.6265419778020452"
      ],
      "text/plain": [
       "<IPython.core.display.Markdown object>"
      ]
     },
     "metadata": {},
     "output_type": "display_data"
    },
    {
     "data": {
      "text/markdown": [
       "#### Histogram of the probability distribution"
      ],
      "text/plain": [
       "<IPython.core.display.Markdown object>"
      ]
     },
     "metadata": {},
     "output_type": "display_data"
    },
    {
     "data": {
      "text/markdown": [
       "#### KDE plots of the probability distribution by class"
      ],
      "text/plain": [
       "<IPython.core.display.Markdown object>"
      ]
     },
     "metadata": {},
     "output_type": "display_data"
    },
    {
     "data": {
      "text/markdown": [
       "#### Calibration curve (equal width bins)"
      ],
      "text/plain": [
       "<IPython.core.display.Markdown object>"
      ]
     },
     "metadata": {},
     "output_type": "display_data"
    },
    {
     "data": {
      "text/markdown": [
       "#### Calibration curve (equal size bins)"
      ],
      "text/plain": [
       "<IPython.core.display.Markdown object>"
      ]
     },
     "metadata": {},
     "output_type": "display_data"
    },
    {
     "data": {
      "text/markdown": [
       "#### Calibration curve after sigmoid Calibration"
      ],
      "text/plain": [
       "<IPython.core.display.Markdown object>"
      ]
     },
     "metadata": {},
     "output_type": "display_data"
    },
    {
     "data": {
      "text/markdown": [
       "AUROC: 0.64294661243384"
      ],
      "text/plain": [
       "<IPython.core.display.Markdown object>"
      ]
     },
     "metadata": {},
     "output_type": "display_data"
    },
    {
     "data": {
      "text/markdown": [
       "Gini: 0.28589322486768"
      ],
      "text/plain": [
       "<IPython.core.display.Markdown object>"
      ]
     },
     "metadata": {},
     "output_type": "display_data"
    },
    {
     "data": {
      "text/markdown": [
       "Fraction of positive cases in the test set: 0.6357375860819138"
      ],
      "text/plain": [
       "<IPython.core.display.Markdown object>"
      ]
     },
     "metadata": {},
     "output_type": "display_data"
    },
    {
     "data": {
      "text/markdown": [
       "Mean predicted value in the test set:       0.6345895589067695"
      ],
      "text/plain": [
       "<IPython.core.display.Markdown object>"
      ]
     },
     "metadata": {},
     "output_type": "display_data"
    },
    {
     "data": {
      "text/markdown": [
       "ECE (equal width bins):       0.01954820577153786"
      ],
      "text/plain": [
       "<IPython.core.display.Markdown object>"
      ]
     },
     "metadata": {},
     "output_type": "display_data"
    },
    {
     "data": {
      "text/markdown": [
       "test set log loss results: 0.6264381725058943"
      ],
      "text/plain": [
       "<IPython.core.display.Markdown object>"
      ]
     },
     "metadata": {},
     "output_type": "display_data"
    },
    {
     "data": {
      "text/markdown": [
       "#### Histogram of the probability distribution"
      ],
      "text/plain": [
       "<IPython.core.display.Markdown object>"
      ]
     },
     "metadata": {},
     "output_type": "display_data"
    },
    {
     "data": {
      "text/markdown": [
       "#### KDE plots of the probability distribution by class"
      ],
      "text/plain": [
       "<IPython.core.display.Markdown object>"
      ]
     },
     "metadata": {},
     "output_type": "display_data"
    },
    {
     "data": {
      "text/markdown": [
       "#### Calibration curve (equal width bins)"
      ],
      "text/plain": [
       "<IPython.core.display.Markdown object>"
      ]
     },
     "metadata": {},
     "output_type": "display_data"
    },
    {
     "data": {
      "text/markdown": [
       "#### Calibration curve (equal size bins)"
      ],
      "text/plain": [
       "<IPython.core.display.Markdown object>"
      ]
     },
     "metadata": {},
     "output_type": "display_data"
    },
    {
     "name": "stdout",
     "output_type": "stream",
     "text": [
      "Optimizing hyperparameters for LogisticRegression model...\n",
      "Best hyperparameters {'classifier__C': 3276.5177603136576}\n",
      "Best cross validation score -0.650829455229317\n",
      "\n",
      "['distance', 'visible_angle', 'angle_to_mid']\n",
      "###Validation Results###\n",
      "training set results: -0.6450096672336889\n",
      "training set auc results: 0.6618935238338224\n",
      "\n",
      "###Evaluation Results###\n",
      "test set log loss results: 0.6459274602790064\n",
      "test set auc results: 0.6302070037497802\n",
      "[[   6  999]\n",
      " [  18 1736]]\n",
      "              precision    recall  f1-score   support\n",
      "\n",
      "           0       0.25      0.01      0.01      1005\n",
      "           1       0.63      0.99      0.77      1754\n",
      "\n",
      "    accuracy                           0.63      2759\n",
      "   macro avg       0.44      0.50      0.39      2759\n",
      "weighted avg       0.49      0.63      0.50      2759\n",
      "\n",
      "\n"
     ]
    },
    {
     "data": {
      "text/markdown": [
       "#### Calibration curve before Calibration"
      ],
      "text/plain": [
       "<IPython.core.display.Markdown object>"
      ]
     },
     "metadata": {},
     "output_type": "display_data"
    },
    {
     "data": {
      "text/markdown": [
       "AUROC: 0.6302070037497802"
      ],
      "text/plain": [
       "<IPython.core.display.Markdown object>"
      ]
     },
     "metadata": {},
     "output_type": "display_data"
    },
    {
     "data": {
      "text/markdown": [
       "Gini: 0.26041400749956045"
      ],
      "text/plain": [
       "<IPython.core.display.Markdown object>"
      ]
     },
     "metadata": {},
     "output_type": "display_data"
    },
    {
     "data": {
      "text/markdown": [
       "Fraction of positive cases in the test set: 0.6357375860819138"
      ],
      "text/plain": [
       "<IPython.core.display.Markdown object>"
      ]
     },
     "metadata": {},
     "output_type": "display_data"
    },
    {
     "data": {
      "text/markdown": [
       "Mean predicted value in the test set:       0.6373375559285299"
      ],
      "text/plain": [
       "<IPython.core.display.Markdown object>"
      ]
     },
     "metadata": {},
     "output_type": "display_data"
    },
    {
     "data": {
      "text/markdown": [
       "ECE (equal width bins):       0.029993656107110807"
      ],
      "text/plain": [
       "<IPython.core.display.Markdown object>"
      ]
     },
     "metadata": {},
     "output_type": "display_data"
    },
    {
     "data": {
      "text/markdown": [
       "test set log loss results: 0.6459274602790064"
      ],
      "text/plain": [
       "<IPython.core.display.Markdown object>"
      ]
     },
     "metadata": {},
     "output_type": "display_data"
    },
    {
     "data": {
      "text/markdown": [
       "#### Histogram of the probability distribution"
      ],
      "text/plain": [
       "<IPython.core.display.Markdown object>"
      ]
     },
     "metadata": {},
     "output_type": "display_data"
    },
    {
     "data": {
      "text/markdown": [
       "#### KDE plots of the probability distribution by class"
      ],
      "text/plain": [
       "<IPython.core.display.Markdown object>"
      ]
     },
     "metadata": {},
     "output_type": "display_data"
    },
    {
     "data": {
      "text/markdown": [
       "#### Calibration curve (equal width bins)"
      ],
      "text/plain": [
       "<IPython.core.display.Markdown object>"
      ]
     },
     "metadata": {},
     "output_type": "display_data"
    },
    {
     "data": {
      "text/markdown": [
       "#### Calibration curve (equal size bins)"
      ],
      "text/plain": [
       "<IPython.core.display.Markdown object>"
      ]
     },
     "metadata": {},
     "output_type": "display_data"
    },
    {
     "name": "stderr",
     "output_type": "stream",
     "text": [
      "More than 20 figures have been opened. Figures created through the pyplot interface (`matplotlib.pyplot.figure`) are retained until explicitly closed and may consume too much memory. (To control this warning, see the rcParam `figure.max_open_warning`).\n"
     ]
    },
    {
     "data": {
      "text/markdown": [
       "#### Calibration curve after isotonic Calibration"
      ],
      "text/plain": [
       "<IPython.core.display.Markdown object>"
      ]
     },
     "metadata": {},
     "output_type": "display_data"
    },
    {
     "data": {
      "text/markdown": [
       "AUROC: 0.632011266359196"
      ],
      "text/plain": [
       "<IPython.core.display.Markdown object>"
      ]
     },
     "metadata": {},
     "output_type": "display_data"
    },
    {
     "data": {
      "text/markdown": [
       "Gini: 0.26402253271839204"
      ],
      "text/plain": [
       "<IPython.core.display.Markdown object>"
      ]
     },
     "metadata": {},
     "output_type": "display_data"
    },
    {
     "data": {
      "text/markdown": [
       "Fraction of positive cases in the test set: 0.6357375860819138"
      ],
      "text/plain": [
       "<IPython.core.display.Markdown object>"
      ]
     },
     "metadata": {},
     "output_type": "display_data"
    },
    {
     "data": {
      "text/markdown": [
       "Mean predicted value in the test set:       0.6379525666800778"
      ],
      "text/plain": [
       "<IPython.core.display.Markdown object>"
      ]
     },
     "metadata": {},
     "output_type": "display_data"
    },
    {
     "data": {
      "text/markdown": [
       "ECE (equal width bins):       0.010926507270544568"
      ],
      "text/plain": [
       "<IPython.core.display.Markdown object>"
      ]
     },
     "metadata": {},
     "output_type": "display_data"
    },
    {
     "data": {
      "text/markdown": [
       "test set log loss results: 0.6317036593454834"
      ],
      "text/plain": [
       "<IPython.core.display.Markdown object>"
      ]
     },
     "metadata": {},
     "output_type": "display_data"
    },
    {
     "data": {
      "text/markdown": [
       "#### Histogram of the probability distribution"
      ],
      "text/plain": [
       "<IPython.core.display.Markdown object>"
      ]
     },
     "metadata": {},
     "output_type": "display_data"
    },
    {
     "data": {
      "text/markdown": [
       "#### KDE plots of the probability distribution by class"
      ],
      "text/plain": [
       "<IPython.core.display.Markdown object>"
      ]
     },
     "metadata": {},
     "output_type": "display_data"
    },
    {
     "data": {
      "text/markdown": [
       "#### Calibration curve (equal width bins)"
      ],
      "text/plain": [
       "<IPython.core.display.Markdown object>"
      ]
     },
     "metadata": {},
     "output_type": "display_data"
    },
    {
     "data": {
      "text/markdown": [
       "#### Calibration curve (equal size bins)"
      ],
      "text/plain": [
       "<IPython.core.display.Markdown object>"
      ]
     },
     "metadata": {},
     "output_type": "display_data"
    },
    {
     "data": {
      "text/markdown": [
       "#### Calibration curve after sigmoid Calibration"
      ],
      "text/plain": [
       "<IPython.core.display.Markdown object>"
      ]
     },
     "metadata": {},
     "output_type": "display_data"
    },
    {
     "data": {
      "text/markdown": [
       "AUROC: 0.6302070037497802"
      ],
      "text/plain": [
       "<IPython.core.display.Markdown object>"
      ]
     },
     "metadata": {},
     "output_type": "display_data"
    },
    {
     "data": {
      "text/markdown": [
       "Gini: 0.26041400749956045"
      ],
      "text/plain": [
       "<IPython.core.display.Markdown object>"
      ]
     },
     "metadata": {},
     "output_type": "display_data"
    },
    {
     "data": {
      "text/markdown": [
       "Fraction of positive cases in the test set: 0.6357375860819138"
      ],
      "text/plain": [
       "<IPython.core.display.Markdown object>"
      ]
     },
     "metadata": {},
     "output_type": "display_data"
    },
    {
     "data": {
      "text/markdown": [
       "Mean predicted value in the test set:       0.6373373889993602"
      ],
      "text/plain": [
       "<IPython.core.display.Markdown object>"
      ]
     },
     "metadata": {},
     "output_type": "display_data"
    },
    {
     "data": {
      "text/markdown": [
       "ECE (equal width bins):       0.02956523814071508"
      ],
      "text/plain": [
       "<IPython.core.display.Markdown object>"
      ]
     },
     "metadata": {},
     "output_type": "display_data"
    },
    {
     "data": {
      "text/markdown": [
       "test set log loss results: 0.6459300832544924"
      ],
      "text/plain": [
       "<IPython.core.display.Markdown object>"
      ]
     },
     "metadata": {},
     "output_type": "display_data"
    },
    {
     "data": {
      "text/markdown": [
       "#### Histogram of the probability distribution"
      ],
      "text/plain": [
       "<IPython.core.display.Markdown object>"
      ]
     },
     "metadata": {},
     "output_type": "display_data"
    },
    {
     "data": {
      "text/markdown": [
       "#### KDE plots of the probability distribution by class"
      ],
      "text/plain": [
       "<IPython.core.display.Markdown object>"
      ]
     },
     "metadata": {},
     "output_type": "display_data"
    },
    {
     "data": {
      "text/markdown": [
       "#### Calibration curve (equal width bins)"
      ],
      "text/plain": [
       "<IPython.core.display.Markdown object>"
      ]
     },
     "metadata": {},
     "output_type": "display_data"
    },
    {
     "data": {
      "text/markdown": [
       "#### Calibration curve (equal size bins)"
      ],
      "text/plain": [
       "<IPython.core.display.Markdown object>"
      ]
     },
     "metadata": {},
     "output_type": "display_data"
    },
    {
     "name": "stdout",
     "output_type": "stream",
     "text": [
      "Optimizing hyperparameters for RandomForestClassifier model...\n",
      "Best hyperparameters {'classifier__n_estimators': 56, 'classifier__max_leaf_nodes': 40, 'classifier__max_depth': 6}\n",
      "Best cross validation score -0.6259794462595396\n",
      "\n",
      "['distance', 'visible_angle', 'angle_to_mid']\n",
      "###Validation Results###\n",
      "training set results: -0.6061077426228926\n",
      "training set auc results: 0.6884558688041276\n",
      "\n",
      "###Evaluation Results###\n",
      "test set log loss results: 0.6257143412268846\n",
      "test set auc results: 0.6453873732818235\n",
      "[[ 343  662]\n",
      " [ 303 1451]]\n",
      "              precision    recall  f1-score   support\n",
      "\n",
      "           0       0.53      0.34      0.42      1005\n",
      "           1       0.69      0.83      0.75      1754\n",
      "\n",
      "    accuracy                           0.65      2759\n",
      "   macro avg       0.61      0.58      0.58      2759\n",
      "weighted avg       0.63      0.65      0.63      2759\n",
      "\n",
      "\n"
     ]
    },
    {
     "data": {
      "text/markdown": [
       "#### Calibration curve before Calibration"
      ],
      "text/plain": [
       "<IPython.core.display.Markdown object>"
      ]
     },
     "metadata": {},
     "output_type": "display_data"
    },
    {
     "data": {
      "text/markdown": [
       "AUROC: 0.6453873732818235"
      ],
      "text/plain": [
       "<IPython.core.display.Markdown object>"
      ]
     },
     "metadata": {},
     "output_type": "display_data"
    },
    {
     "data": {
      "text/markdown": [
       "Gini: 0.290774746563647"
      ],
      "text/plain": [
       "<IPython.core.display.Markdown object>"
      ]
     },
     "metadata": {},
     "output_type": "display_data"
    },
    {
     "data": {
      "text/markdown": [
       "Fraction of positive cases in the test set: 0.6357375860819138"
      ],
      "text/plain": [
       "<IPython.core.display.Markdown object>"
      ]
     },
     "metadata": {},
     "output_type": "display_data"
    },
    {
     "data": {
      "text/markdown": [
       "Mean predicted value in the test set:       0.636319529031512"
      ],
      "text/plain": [
       "<IPython.core.display.Markdown object>"
      ]
     },
     "metadata": {},
     "output_type": "display_data"
    },
    {
     "data": {
      "text/markdown": [
       "ECE (equal width bins):       0.02526209233292201"
      ],
      "text/plain": [
       "<IPython.core.display.Markdown object>"
      ]
     },
     "metadata": {},
     "output_type": "display_data"
    },
    {
     "data": {
      "text/markdown": [
       "test set log loss results: 0.6257143412268846"
      ],
      "text/plain": [
       "<IPython.core.display.Markdown object>"
      ]
     },
     "metadata": {},
     "output_type": "display_data"
    },
    {
     "data": {
      "text/markdown": [
       "#### Histogram of the probability distribution"
      ],
      "text/plain": [
       "<IPython.core.display.Markdown object>"
      ]
     },
     "metadata": {},
     "output_type": "display_data"
    },
    {
     "data": {
      "text/markdown": [
       "#### KDE plots of the probability distribution by class"
      ],
      "text/plain": [
       "<IPython.core.display.Markdown object>"
      ]
     },
     "metadata": {},
     "output_type": "display_data"
    },
    {
     "data": {
      "text/markdown": [
       "#### Calibration curve (equal width bins)"
      ],
      "text/plain": [
       "<IPython.core.display.Markdown object>"
      ]
     },
     "metadata": {},
     "output_type": "display_data"
    },
    {
     "data": {
      "text/markdown": [
       "#### Calibration curve (equal size bins)"
      ],
      "text/plain": [
       "<IPython.core.display.Markdown object>"
      ]
     },
     "metadata": {},
     "output_type": "display_data"
    },
    {
     "data": {
      "text/markdown": [
       "#### Calibration curve after isotonic Calibration"
      ],
      "text/plain": [
       "<IPython.core.display.Markdown object>"
      ]
     },
     "metadata": {},
     "output_type": "display_data"
    },
    {
     "data": {
      "text/markdown": [
       "AUROC: 0.6451440063082534"
      ],
      "text/plain": [
       "<IPython.core.display.Markdown object>"
      ]
     },
     "metadata": {},
     "output_type": "display_data"
    },
    {
     "data": {
      "text/markdown": [
       "Gini: 0.29028801261650683"
      ],
      "text/plain": [
       "<IPython.core.display.Markdown object>"
      ]
     },
     "metadata": {},
     "output_type": "display_data"
    },
    {
     "data": {
      "text/markdown": [
       "Fraction of positive cases in the test set: 0.6357375860819138"
      ],
      "text/plain": [
       "<IPython.core.display.Markdown object>"
      ]
     },
     "metadata": {},
     "output_type": "display_data"
    },
    {
     "data": {
      "text/markdown": [
       "Mean predicted value in the test set:       0.6354574213492427"
      ],
      "text/plain": [
       "<IPython.core.display.Markdown object>"
      ]
     },
     "metadata": {},
     "output_type": "display_data"
    },
    {
     "data": {
      "text/markdown": [
       "ECE (equal width bins):       0.02478582440572631"
      ],
      "text/plain": [
       "<IPython.core.display.Markdown object>"
      ]
     },
     "metadata": {},
     "output_type": "display_data"
    },
    {
     "data": {
      "text/markdown": [
       "test set log loss results: 0.6280737187121294"
      ],
      "text/plain": [
       "<IPython.core.display.Markdown object>"
      ]
     },
     "metadata": {},
     "output_type": "display_data"
    },
    {
     "data": {
      "text/markdown": [
       "#### Histogram of the probability distribution"
      ],
      "text/plain": [
       "<IPython.core.display.Markdown object>"
      ]
     },
     "metadata": {},
     "output_type": "display_data"
    },
    {
     "data": {
      "text/markdown": [
       "#### KDE plots of the probability distribution by class"
      ],
      "text/plain": [
       "<IPython.core.display.Markdown object>"
      ]
     },
     "metadata": {},
     "output_type": "display_data"
    },
    {
     "data": {
      "text/markdown": [
       "#### Calibration curve (equal width bins)"
      ],
      "text/plain": [
       "<IPython.core.display.Markdown object>"
      ]
     },
     "metadata": {},
     "output_type": "display_data"
    },
    {
     "data": {
      "text/markdown": [
       "#### Calibration curve (equal size bins)"
      ],
      "text/plain": [
       "<IPython.core.display.Markdown object>"
      ]
     },
     "metadata": {},
     "output_type": "display_data"
    },
    {
     "data": {
      "text/markdown": [
       "#### Calibration curve after sigmoid Calibration"
      ],
      "text/plain": [
       "<IPython.core.display.Markdown object>"
      ]
     },
     "metadata": {},
     "output_type": "display_data"
    },
    {
     "data": {
      "text/markdown": [
       "AUROC: 0.6453873732818235"
      ],
      "text/plain": [
       "<IPython.core.display.Markdown object>"
      ]
     },
     "metadata": {},
     "output_type": "display_data"
    },
    {
     "data": {
      "text/markdown": [
       "Gini: 0.290774746563647"
      ],
      "text/plain": [
       "<IPython.core.display.Markdown object>"
      ]
     },
     "metadata": {},
     "output_type": "display_data"
    },
    {
     "data": {
      "text/markdown": [
       "Fraction of positive cases in the test set: 0.6357375860819138"
      ],
      "text/plain": [
       "<IPython.core.display.Markdown object>"
      ]
     },
     "metadata": {},
     "output_type": "display_data"
    },
    {
     "data": {
      "text/markdown": [
       "Mean predicted value in the test set:       0.6362998958901708"
      ],
      "text/plain": [
       "<IPython.core.display.Markdown object>"
      ]
     },
     "metadata": {},
     "output_type": "display_data"
    },
    {
     "data": {
      "text/markdown": [
       "ECE (equal width bins):       0.03596573920491004"
      ],
      "text/plain": [
       "<IPython.core.display.Markdown object>"
      ]
     },
     "metadata": {},
     "output_type": "display_data"
    },
    {
     "data": {
      "text/markdown": [
       "test set log loss results: 0.6283797612177354"
      ],
      "text/plain": [
       "<IPython.core.display.Markdown object>"
      ]
     },
     "metadata": {},
     "output_type": "display_data"
    },
    {
     "data": {
      "text/markdown": [
       "#### Histogram of the probability distribution"
      ],
      "text/plain": [
       "<IPython.core.display.Markdown object>"
      ]
     },
     "metadata": {},
     "output_type": "display_data"
    },
    {
     "data": {
      "text/markdown": [
       "#### KDE plots of the probability distribution by class"
      ],
      "text/plain": [
       "<IPython.core.display.Markdown object>"
      ]
     },
     "metadata": {},
     "output_type": "display_data"
    },
    {
     "data": {
      "text/markdown": [
       "#### Calibration curve (equal width bins)"
      ],
      "text/plain": [
       "<IPython.core.display.Markdown object>"
      ]
     },
     "metadata": {},
     "output_type": "display_data"
    },
    {
     "data": {
      "text/markdown": [
       "#### Calibration curve (equal size bins)"
      ],
      "text/plain": [
       "<IPython.core.display.Markdown object>"
      ]
     },
     "metadata": {},
     "output_type": "display_data"
    },
    {
     "data": {
      "text/plain": [
       "<Figure size 640x480 with 0 Axes>"
      ]
     },
     "metadata": {},
     "output_type": "display_data"
    },
    {
     "data": {
      "image/png": "[encoded data removed]",
      "text/plain": [
       "<Figure size 640x480 with 1 Axes>"
      ]
     },
     "metadata": {},
     "output_type": "display_data"
    },
    {
     "data": {
      "text/plain": [
       "<Figure size 800x270 with 0 Axes>"
      ]
     },
     "metadata": {},
     "output_type": "display_data"
    },
    {
     "data": {
      "text/plain": [
       "<Figure size 640x480 with 0 Axes>"
      ]
     },
     "metadata": {},
     "output_type": "display_data"
    },
    {
     "data": {
      "image/png": "[encoded data removed]",
      "text/plain": [
       "<Figure size 640x480 with 1 Axes>"
      ]
     },
     "metadata": {},
     "output_type": "display_data"
    },
    {
     "data": {
      "text/plain": [
       "<Figure size 800x270 with 0 Axes>"
      ]
     },
     "metadata": {},
     "output_type": "display_data"
    },
    {
     "data": {
      "text/plain": [
       "<Figure size 640x480 with 0 Axes>"
      ]
     },
     "metadata": {},
     "output_type": "display_data"
    },
    {
     "data": {
      "image/png": "[encoded data removed]",
      "text/plain": [
       "<Figure size 640x480 with 1 Axes>"
      ]
     },
     "metadata": {},
     "output_type": "display_data"
    },
    {
     "data": {
      "text/plain": [
       "<Figure size 800x270 with 0 Axes>"
      ]
     },
     "metadata": {},
     "output_type": "display_data"
    },
    {
     "data": {
      "text/plain": [
       "<Figure size 640x480 with 0 Axes>"
      ]
     },
     "metadata": {},
     "output_type": "display_data"
    },
    {
     "data": {
      "image/png": "[encoded data removed]",
      "text/plain": [
       "<Figure size 640x480 with 1 Axes>"
      ]
     },
     "metadata": {},
     "output_type": "display_data"
    },
    {
     "data": {
      "text/plain": [
       "<Figure size 800x270 with 0 Axes>"
      ]
     },
     "metadata": {},
     "output_type": "display_data"
    },
    {
     "data": {
      "text/plain": [
       "<Figure size 640x480 with 0 Axes>"
      ]
     },
     "metadata": {},
     "output_type": "display_data"
    },
    {
     "data": {
      "image/png": "[encoded data removed]",
      "text/plain": [
       "<Figure size 640x480 with 1 Axes>"
      ]
     },
     "metadata": {},
     "output_type": "display_data"
    },
    {
     "data": {
      "text/plain": [
       "<Figure size 800x270 with 0 Axes>"
      ]
     },
     "metadata": {},
     "output_type": "display_data"
    },
    {
     "data": {
      "text/plain": [
       "<Figure size 640x480 with 0 Axes>"
      ]
     },
     "metadata": {},
     "output_type": "display_data"
    },
    {
     "data": {
      "image/png": "[encoded data removed]",
      "text/plain": [
       "<Figure size 640x480 with 1 Axes>"
      ]
     },
     "metadata": {},
     "output_type": "display_data"
    },
    {
     "data": {
      "text/plain": [
       "<Figure size 800x270 with 0 Axes>"
      ]
     },
     "metadata": {},
     "output_type": "display_data"
    },
    {
     "data": {
      "text/plain": [
       "<Figure size 640x480 with 0 Axes>"
      ]
     },
     "metadata": {},
     "output_type": "display_data"
    },
    {
     "data": {
      "image/png": "[encoded data removed]",
      "text/plain": [
       "<Figure size 640x480 with 1 Axes>"
      ]
     },
     "metadata": {},
     "output_type": "display_data"
    },
    {
     "data": {
      "text/plain": [
       "<Figure size 1000x600 with 0 Axes>"
      ]
     },
     "metadata": {},
     "output_type": "display_data"
    },
    {
     "data": {
      "text/plain": [
       "<Figure size 1000x600 with 0 Axes>"
      ]
     },
     "metadata": {},
     "output_type": "display_data"
    },
    {
     "data": {
      "image/png": "[encoded data removed]",
      "text/plain": [
       "<Figure size 640x480 with 1 Axes>"
      ]
     },
     "metadata": {},
     "output_type": "display_data"
    },
    {
     "data": {
      "text/plain": [
       "<Figure size 1000x600 with 0 Axes>"
      ]
     },
     "metadata": {},
     "output_type": "display_data"
    },
    {
     "data": {
      "text/plain": [
       "<Figure size 1000x600 with 0 Axes>"
      ]
     },
     "metadata": {},
     "output_type": "display_data"
    },
    {
     "data": {
      "image/png": "[encoded data removed]",
      "text/plain": [
       "<Figure size 640x480 with 1 Axes>"
      ]
     },
     "metadata": {},
     "output_type": "display_data"
    },
    {
     "data": {
      "text/plain": [
       "<Figure size 1000x600 with 0 Axes>"
      ]
     },
     "metadata": {},
     "output_type": "display_data"
    },
    {
     "data": {
      "text/plain": [
       "<Figure size 1000x600 with 0 Axes>"
      ]
     },
     "metadata": {},
     "output_type": "display_data"
    },
    {
     "data": {
      "image/png": "[encoded data removed]",
      "text/plain": [
       "<Figure size 640x480 with 1 Axes>"
      ]
     },
     "metadata": {},
     "output_type": "display_data"
    },
    {
     "data": {
      "text/plain": [
       "<Figure size 800x270 with 0 Axes>"
      ]
     },
     "metadata": {},
     "output_type": "display_data"
    },
    {
     "data": {
      "image/png": "[encoded data removed]",
      "text/plain": [
       "<Figure size 640x480 with 1 Axes>"
      ]
     },
     "metadata": {},
     "output_type": "display_data"
    },
    {
     "data": {
      "text/plain": [
       "<Figure size 800x270 with 0 Axes>"
      ]
     },
     "metadata": {},
     "output_type": "display_data"
    },
    {
     "data": {
      "image/png": "[encoded data removed]",
      "text/plain": [
       "<Figure size 640x480 with 1 Axes>"
      ]
     },
     "metadata": {},
     "output_type": "display_data"
    },
    {
     "data": {
      "image/png": "[encoded data removed]",
      "text/plain": [
       "<Figure size 800x270 with 1 Axes>"
      ]
     },
     "metadata": {},
     "output_type": "display_data"
    }
   ],
   "source": [
    "classifiers = create_classifier_dict()\n",
    "numerical_shot_attributes = dataset_dict.get(\"num_attr\")\n",
    "categorical_features = dataset_dict.get(\"cat_attr\")\n",
    "\n",
    "for classifier_name, classifier_obj in classifiers.items():\n",
    "    ## pipeline for standardization, hyperparameteropt, rfe and os inlc. Training report\n",
    "    cv_res, best_clf , pipe, result_df, eval_result_df = full_pipeline(comb='T', \n",
    "                                                                    X_train=X_train, \n",
    "                                                                    y_train=y_train,\n",
    "                                                                    X_test=X_test,\n",
    "                                                                    y_test=y_test,\n",
    "                                                                    numeric_features=numerical_shot_attributes,\n",
    "                                                                    categorical_features=categorical_features,\n",
    "                                                                    clf=classifier_obj[0],\n",
    "                                                                    hyperparameter_dist=classifier_obj[1],\n",
    "                                                                    result_df=result_df,\n",
    "                                                                    eval_result_df=eval_result_df,\n",
    "                                                                    scoring=\"neg_log_loss\",\n",
    "                                                                    n_iter=20,\n",
    "                                                                    rfe=False,\n",
    "                                                                    os=False,\n",
    "                                                                    log=True,\n",
    "                                                                    save=True,\n",
    "                                                                    n_features_to_select=None,\n",
    "                                                                    calibration=True)\n",
    "    ##Calculate xG Values\n",
    "    dataset[classifier_name +\"_xG\"] = best_clf.predict_proba(X)[:,1]\n",
    "    detailed_shots_clean[classifier_name +\"_xG_baseline\"] =  best_clf.predict_proba(detailed_shots_clean)[:,1]\n",
    "dataset.to_csv('/home/sc.uni-leipzig.de/az091jwou/expected_goals_handball/Data/simple_shots_dataset_result.csv')"
   ]
  },
  {
   "cell_type": "markdown",
   "id": "531c12e2-f292-413c-b2f6-5190525d66db",
   "metadata": {
    "tags": []
   },
   "source": [
    "# Detailed Dataset"
   ]
  },
  {
   "cell_type": "code",
   "execution_count": 9,
   "id": "065fdc15-7e40-4ce4-8af3-f737e9404263",
   "metadata": {
    "tags": []
   },
   "outputs": [],
   "source": [
    "## loads the dataset\n",
    "dataset_dict = datasets[1] ##detailed Dataset\n",
    "dataset = dataset_dict.get(\"dataset\")\n",
    "\n",
    "## split dataset in feature and target\n",
    "X = dataset.loc[:, dataset.columns != 'success']\n",
    "y = dataset['success']\n",
    "\n",
    "## split dataset in test, validation and training dataset\n",
    "X_train, X_test, y_train, y_test = train_test_split(X, y, stratify=y, test_size=0.2)"
   ]
  },
  {
   "cell_type": "code",
   "execution_count": 10,
   "id": "10242905-5f70-443d-941b-b5f02974f400",
   "metadata": {},
   "outputs": [
    {
     "name": "stdout",
     "output_type": "stream",
     "text": [
      "Optimizing hyperparameters for LGBMClassifier model...\n",
      "Best hyperparameters {'classifier__learning_rate': 0.03410764224793944, 'classifier__max_depth': 2, 'classifier__num_leaves': 66}\n",
      "Best cross validation score -0.6287707345692661\n",
      "\n",
      "['distance', 'visible_angle', 'angle_to_mid', 'time_between_shots_s', 'dist_closest_def', 'shooter_goalkeeper_dist', 'shot_goalkeeper_dist', 'shooter_goalkeeper_angle', 'shot_goalkeeper_angle', 'player_speed', 'number_of_passes', 'ball_posession', 'pressur_index', 'players_in_shot_angle_from_shot', 'players_in_shot_angle_from_player', 'powerplay', 'empty_net']\n",
      "###Validation Results###\n",
      "training set results: -0.5365688482860651\n",
      "training set auc results: 0.8251748251748252\n",
      "\n",
      "###Evaluation Results###\n",
      "test set log loss results: 0.5372484305627829\n",
      "test set auc results: 0.8049853372434017\n",
      "[[12 19]\n",
      " [ 6 49]]\n",
      "              precision    recall  f1-score   support\n",
      "\n",
      "           0       0.67      0.39      0.49        31\n",
      "           1       0.72      0.89      0.80        55\n",
      "\n",
      "    accuracy                           0.71        86\n",
      "   macro avg       0.69      0.64      0.64        86\n",
      "weighted avg       0.70      0.71      0.69        86\n",
      "\n",
      "\n"
     ]
    },
    {
     "data": {
      "text/markdown": [
       "#### Calibration curve before Calibration"
      ],
      "text/plain": [
       "<IPython.core.display.Markdown object>"
      ]
     },
     "metadata": {},
     "output_type": "display_data"
    },
    {
     "data": {
      "text/markdown": [
       "AUROC: 0.8049853372434017"
      ],
      "text/plain": [
       "<IPython.core.display.Markdown object>"
      ]
     },
     "metadata": {},
     "output_type": "display_data"
    },
    {
     "data": {
      "text/markdown": [
       "Gini: 0.6099706744868034"
      ],
      "text/plain": [
       "<IPython.core.display.Markdown object>"
      ]
     },
     "metadata": {},
     "output_type": "display_data"
    },
    {
     "data": {
      "text/markdown": [
       "Fraction of positive cases in the test set: 0.6395348837209303"
      ],
      "text/plain": [
       "<IPython.core.display.Markdown object>"
      ]
     },
     "metadata": {},
     "output_type": "display_data"
    },
    {
     "data": {
      "text/markdown": [
       "Mean predicted value in the test set:       0.6492661050459385"
      ],
      "text/plain": [
       "<IPython.core.display.Markdown object>"
      ]
     },
     "metadata": {},
     "output_type": "display_data"
    },
    {
     "data": {
      "text/markdown": [
       "ECE (equal width bins):       0.10526424282085109"
      ],
      "text/plain": [
       "<IPython.core.display.Markdown object>"
      ]
     },
     "metadata": {},
     "output_type": "display_data"
    },
    {
     "data": {
      "text/markdown": [
       "test set log loss results: 0.5372484305627829"
      ],
      "text/plain": [
       "<IPython.core.display.Markdown object>"
      ]
     },
     "metadata": {},
     "output_type": "display_data"
    },
    {
     "data": {
      "text/markdown": [
       "#### Histogram of the probability distribution"
      ],
      "text/plain": [
       "<IPython.core.display.Markdown object>"
      ]
     },
     "metadata": {},
     "output_type": "display_data"
    },
    {
     "data": {
      "text/markdown": [
       "#### KDE plots of the probability distribution by class"
      ],
      "text/plain": [
       "<IPython.core.display.Markdown object>"
      ]
     },
     "metadata": {},
     "output_type": "display_data"
    },
    {
     "data": {
      "text/markdown": [
       "#### Calibration curve (equal width bins)"
      ],
      "text/plain": [
       "<IPython.core.display.Markdown object>"
      ]
     },
     "metadata": {},
     "output_type": "display_data"
    },
    {
     "data": {
      "text/markdown": [
       "#### Calibration curve (equal size bins)"
      ],
      "text/plain": [
       "<IPython.core.display.Markdown object>"
      ]
     },
     "metadata": {},
     "output_type": "display_data"
    },
    {
     "name": "stderr",
     "output_type": "stream",
     "text": [
      "LightGBM binary classifier with TreeExplainer shap values output has changed to a list of ndarray\n"
     ]
    },
    {
     "data": {
      "text/markdown": [
       "#### Calibration curve after isotonic Calibration"
      ],
      "text/plain": [
       "<IPython.core.display.Markdown object>"
      ]
     },
     "metadata": {},
     "output_type": "display_data"
    },
    {
     "data": {
      "text/markdown": [
       "AUROC: 0.8090909090909091"
      ],
      "text/plain": [
       "<IPython.core.display.Markdown object>"
      ]
     },
     "metadata": {},
     "output_type": "display_data"
    },
    {
     "data": {
      "text/markdown": [
       "Gini: 0.6181818181818182"
      ],
      "text/plain": [
       "<IPython.core.display.Markdown object>"
      ]
     },
     "metadata": {},
     "output_type": "display_data"
    },
    {
     "data": {
      "text/markdown": [
       "Fraction of positive cases in the test set: 0.6395348837209303"
      ],
      "text/plain": [
       "<IPython.core.display.Markdown object>"
      ]
     },
     "metadata": {},
     "output_type": "display_data"
    },
    {
     "data": {
      "text/markdown": [
       "Mean predicted value in the test set:       0.6564458099249832"
      ],
      "text/plain": [
       "<IPython.core.display.Markdown object>"
      ]
     },
     "metadata": {},
     "output_type": "display_data"
    },
    {
     "data": {
      "text/markdown": [
       "ECE (equal width bins):       0.09405527618442579"
      ],
      "text/plain": [
       "<IPython.core.display.Markdown object>"
      ]
     },
     "metadata": {},
     "output_type": "display_data"
    },
    {
     "data": {
      "text/markdown": [
       "test set log loss results: 0.5256482913704862"
      ],
      "text/plain": [
       "<IPython.core.display.Markdown object>"
      ]
     },
     "metadata": {},
     "output_type": "display_data"
    },
    {
     "data": {
      "text/markdown": [
       "#### Histogram of the probability distribution"
      ],
      "text/plain": [
       "<IPython.core.display.Markdown object>"
      ]
     },
     "metadata": {},
     "output_type": "display_data"
    },
    {
     "data": {
      "text/markdown": [
       "#### KDE plots of the probability distribution by class"
      ],
      "text/plain": [
       "<IPython.core.display.Markdown object>"
      ]
     },
     "metadata": {},
     "output_type": "display_data"
    },
    {
     "data": {
      "text/markdown": [
       "#### Calibration curve (equal width bins)"
      ],
      "text/plain": [
       "<IPython.core.display.Markdown object>"
      ]
     },
     "metadata": {},
     "output_type": "display_data"
    },
    {
     "data": {
      "text/markdown": [
       "#### Calibration curve (equal size bins)"
      ],
      "text/plain": [
       "<IPython.core.display.Markdown object>"
      ]
     },
     "metadata": {},
     "output_type": "display_data"
    },
    {
     "name": "stderr",
     "output_type": "stream",
     "text": [
      "LightGBM binary classifier with TreeExplainer shap values output has changed to a list of ndarray\n"
     ]
    },
    {
     "data": {
      "text/markdown": [
       "#### Calibration curve after sigmoid Calibration"
      ],
      "text/plain": [
       "<IPython.core.display.Markdown object>"
      ]
     },
     "metadata": {},
     "output_type": "display_data"
    },
    {
     "data": {
      "text/markdown": [
       "AUROC: 0.8049853372434017"
      ],
      "text/plain": [
       "<IPython.core.display.Markdown object>"
      ]
     },
     "metadata": {},
     "output_type": "display_data"
    },
    {
     "data": {
      "text/markdown": [
       "Gini: 0.6099706744868034"
      ],
      "text/plain": [
       "<IPython.core.display.Markdown object>"
      ]
     },
     "metadata": {},
     "output_type": "display_data"
    },
    {
     "data": {
      "text/markdown": [
       "Fraction of positive cases in the test set: 0.6395348837209303"
      ],
      "text/plain": [
       "<IPython.core.display.Markdown object>"
      ]
     },
     "metadata": {},
     "output_type": "display_data"
    },
    {
     "data": {
      "text/markdown": [
       "Mean predicted value in the test set:       0.6578189359866218"
      ],
      "text/plain": [
       "<IPython.core.display.Markdown object>"
      ]
     },
     "metadata": {},
     "output_type": "display_data"
    },
    {
     "data": {
      "text/markdown": [
       "ECE (equal width bins):       0.1155830252222681"
      ],
      "text/plain": [
       "<IPython.core.display.Markdown object>"
      ]
     },
     "metadata": {},
     "output_type": "display_data"
    },
    {
     "data": {
      "text/markdown": [
       "test set log loss results: 0.5372715059800699"
      ],
      "text/plain": [
       "<IPython.core.display.Markdown object>"
      ]
     },
     "metadata": {},
     "output_type": "display_data"
    },
    {
     "data": {
      "text/markdown": [
       "#### Histogram of the probability distribution"
      ],
      "text/plain": [
       "<IPython.core.display.Markdown object>"
      ]
     },
     "metadata": {},
     "output_type": "display_data"
    },
    {
     "data": {
      "text/markdown": [
       "#### KDE plots of the probability distribution by class"
      ],
      "text/plain": [
       "<IPython.core.display.Markdown object>"
      ]
     },
     "metadata": {},
     "output_type": "display_data"
    },
    {
     "data": {
      "text/markdown": [
       "#### Calibration curve (equal width bins)"
      ],
      "text/plain": [
       "<IPython.core.display.Markdown object>"
      ]
     },
     "metadata": {},
     "output_type": "display_data"
    },
    {
     "data": {
      "text/markdown": [
       "#### Calibration curve (equal size bins)"
      ],
      "text/plain": [
       "<IPython.core.display.Markdown object>"
      ]
     },
     "metadata": {},
     "output_type": "display_data"
    },
    {
     "name": "stderr",
     "output_type": "stream",
     "text": [
      "LightGBM binary classifier with TreeExplainer shap values output has changed to a list of ndarray\n"
     ]
    },
    {
     "name": "stdout",
     "output_type": "stream",
     "text": [
      "Optimizing hyperparameters for XGBClassifier model...\n",
      "Best hyperparameters {'classifier__eta': 0.08786481630691201, 'classifier__max_depth': 1, 'classifier__max_leaves': 6}\n",
      "Best cross validation score -0.6140520495269429\n",
      "\n",
      "['distance', 'visible_angle', 'angle_to_mid', 'time_between_shots_s', 'dist_closest_def', 'shooter_goalkeeper_dist', 'shot_goalkeeper_dist', 'shooter_goalkeeper_angle', 'shot_goalkeeper_angle', 'player_speed', 'number_of_passes', 'ball_posession', 'pressur_index', 'players_in_shot_angle_from_shot', 'players_in_shot_angle_from_player', 'powerplay', 'empty_net']\n",
      "###Validation Results###\n",
      "training set results: -0.5333275490171842\n",
      "training set auc results: 0.8601398601398602\n",
      "\n",
      "###Evaluation Results###\n",
      "test set log loss results: 0.5379500034037302\n",
      "test set auc results: 0.7944281524926686\n",
      "[[12 19]\n",
      " [ 7 48]]\n",
      "              precision    recall  f1-score   support\n",
      "\n",
      "           0       0.63      0.39      0.48        31\n",
      "           1       0.72      0.87      0.79        55\n",
      "\n",
      "    accuracy                           0.70        86\n",
      "   macro avg       0.67      0.63      0.63        86\n",
      "weighted avg       0.69      0.70      0.68        86\n",
      "\n",
      "\n"
     ]
    },
    {
     "data": {
      "text/markdown": [
       "#### Calibration curve before Calibration"
      ],
      "text/plain": [
       "<IPython.core.display.Markdown object>"
      ]
     },
     "metadata": {},
     "output_type": "display_data"
    },
    {
     "data": {
      "text/markdown": [
       "AUROC: 0.7944281524926686"
      ],
      "text/plain": [
       "<IPython.core.display.Markdown object>"
      ]
     },
     "metadata": {},
     "output_type": "display_data"
    },
    {
     "data": {
      "text/markdown": [
       "Gini: 0.5888563049853373"
      ],
      "text/plain": [
       "<IPython.core.display.Markdown object>"
      ]
     },
     "metadata": {},
     "output_type": "display_data"
    },
    {
     "data": {
      "text/markdown": [
       "Fraction of positive cases in the test set: 0.6395348837209303"
      ],
      "text/plain": [
       "<IPython.core.display.Markdown object>"
      ]
     },
     "metadata": {},
     "output_type": "display_data"
    },
    {
     "data": {
      "text/markdown": [
       "Mean predicted value in the test set:       0.6522063612937927"
      ],
      "text/plain": [
       "<IPython.core.display.Markdown object>"
      ]
     },
     "metadata": {},
     "output_type": "display_data"
    },
    {
     "data": {
      "text/markdown": [
       "ECE (equal width bins):       0.11731579310672229"
      ],
      "text/plain": [
       "<IPython.core.display.Markdown object>"
      ]
     },
     "metadata": {},
     "output_type": "display_data"
    },
    {
     "data": {
      "text/markdown": [
       "test set log loss results: 0.5379500034037302"
      ],
      "text/plain": [
       "<IPython.core.display.Markdown object>"
      ]
     },
     "metadata": {},
     "output_type": "display_data"
    },
    {
     "data": {
      "text/markdown": [
       "#### Histogram of the probability distribution"
      ],
      "text/plain": [
       "<IPython.core.display.Markdown object>"
      ]
     },
     "metadata": {},
     "output_type": "display_data"
    },
    {
     "data": {
      "text/markdown": [
       "#### KDE plots of the probability distribution by class"
      ],
      "text/plain": [
       "<IPython.core.display.Markdown object>"
      ]
     },
     "metadata": {},
     "output_type": "display_data"
    },
    {
     "data": {
      "text/markdown": [
       "#### Calibration curve (equal width bins)"
      ],
      "text/plain": [
       "<IPython.core.display.Markdown object>"
      ]
     },
     "metadata": {},
     "output_type": "display_data"
    },
    {
     "data": {
      "text/markdown": [
       "#### Calibration curve (equal size bins)"
      ],
      "text/plain": [
       "<IPython.core.display.Markdown object>"
      ]
     },
     "metadata": {},
     "output_type": "display_data"
    },
    {
     "data": {
      "text/markdown": [
       "#### Calibration curve after isotonic Calibration"
      ],
      "text/plain": [
       "<IPython.core.display.Markdown object>"
      ]
     },
     "metadata": {},
     "output_type": "display_data"
    },
    {
     "data": {
      "text/markdown": [
       "AUROC: 0.7912023460410558"
      ],
      "text/plain": [
       "<IPython.core.display.Markdown object>"
      ]
     },
     "metadata": {},
     "output_type": "display_data"
    },
    {
     "data": {
      "text/markdown": [
       "Gini: 0.5824046920821115"
      ],
      "text/plain": [
       "<IPython.core.display.Markdown object>"
      ]
     },
     "metadata": {},
     "output_type": "display_data"
    },
    {
     "data": {
      "text/markdown": [
       "Fraction of positive cases in the test set: 0.6395348837209303"
      ],
      "text/plain": [
       "<IPython.core.display.Markdown object>"
      ]
     },
     "metadata": {},
     "output_type": "display_data"
    },
    {
     "data": {
      "text/markdown": [
       "Mean predicted value in the test set:       0.6687483961542331"
      ],
      "text/plain": [
       "<IPython.core.display.Markdown object>"
      ]
     },
     "metadata": {},
     "output_type": "display_data"
    },
    {
     "data": {
      "text/markdown": [
       "ECE (equal width bins):       0.08996027012810462"
      ],
      "text/plain": [
       "<IPython.core.display.Markdown object>"
      ]
     },
     "metadata": {},
     "output_type": "display_data"
    },
    {
     "data": {
      "text/markdown": [
       "test set log loss results: 0.5309579473916404"
      ],
      "text/plain": [
       "<IPython.core.display.Markdown object>"
      ]
     },
     "metadata": {},
     "output_type": "display_data"
    },
    {
     "data": {
      "text/markdown": [
       "#### Histogram of the probability distribution"
      ],
      "text/plain": [
       "<IPython.core.display.Markdown object>"
      ]
     },
     "metadata": {},
     "output_type": "display_data"
    },
    {
     "data": {
      "text/markdown": [
       "#### KDE plots of the probability distribution by class"
      ],
      "text/plain": [
       "<IPython.core.display.Markdown object>"
      ]
     },
     "metadata": {},
     "output_type": "display_data"
    },
    {
     "data": {
      "text/markdown": [
       "#### Calibration curve (equal width bins)"
      ],
      "text/plain": [
       "<IPython.core.display.Markdown object>"
      ]
     },
     "metadata": {},
     "output_type": "display_data"
    },
    {
     "data": {
      "text/markdown": [
       "#### Calibration curve (equal size bins)"
      ],
      "text/plain": [
       "<IPython.core.display.Markdown object>"
      ]
     },
     "metadata": {},
     "output_type": "display_data"
    },
    {
     "data": {
      "text/markdown": [
       "#### Calibration curve after sigmoid Calibration"
      ],
      "text/plain": [
       "<IPython.core.display.Markdown object>"
      ]
     },
     "metadata": {},
     "output_type": "display_data"
    },
    {
     "data": {
      "text/markdown": [
       "AUROC: 0.7944281524926686"
      ],
      "text/plain": [
       "<IPython.core.display.Markdown object>"
      ]
     },
     "metadata": {},
     "output_type": "display_data"
    },
    {
     "data": {
      "text/markdown": [
       "Gini: 0.5888563049853373"
      ],
      "text/plain": [
       "<IPython.core.display.Markdown object>"
      ]
     },
     "metadata": {},
     "output_type": "display_data"
    },
    {
     "data": {
      "text/markdown": [
       "Fraction of positive cases in the test set: 0.6395348837209303"
      ],
      "text/plain": [
       "<IPython.core.display.Markdown object>"
      ]
     },
     "metadata": {},
     "output_type": "display_data"
    },
    {
     "data": {
      "text/markdown": [
       "Mean predicted value in the test set:       0.656939187195412"
      ],
      "text/plain": [
       "<IPython.core.display.Markdown object>"
      ]
     },
     "metadata": {},
     "output_type": "display_data"
    },
    {
     "data": {
      "text/markdown": [
       "ECE (equal width bins):       0.08876740568599037"
      ],
      "text/plain": [
       "<IPython.core.display.Markdown object>"
      ]
     },
     "metadata": {},
     "output_type": "display_data"
    },
    {
     "data": {
      "text/markdown": [
       "test set log loss results: 0.5276142304448623"
      ],
      "text/plain": [
       "<IPython.core.display.Markdown object>"
      ]
     },
     "metadata": {},
     "output_type": "display_data"
    },
    {
     "data": {
      "text/markdown": [
       "#### Histogram of the probability distribution"
      ],
      "text/plain": [
       "<IPython.core.display.Markdown object>"
      ]
     },
     "metadata": {},
     "output_type": "display_data"
    },
    {
     "data": {
      "text/markdown": [
       "#### KDE plots of the probability distribution by class"
      ],
      "text/plain": [
       "<IPython.core.display.Markdown object>"
      ]
     },
     "metadata": {},
     "output_type": "display_data"
    },
    {
     "data": {
      "text/markdown": [
       "#### Calibration curve (equal width bins)"
      ],
      "text/plain": [
       "<IPython.core.display.Markdown object>"
      ]
     },
     "metadata": {},
     "output_type": "display_data"
    },
    {
     "data": {
      "text/markdown": [
       "#### Calibration curve (equal size bins)"
      ],
      "text/plain": [
       "<IPython.core.display.Markdown object>"
      ]
     },
     "metadata": {},
     "output_type": "display_data"
    },
    {
     "name": "stdout",
     "output_type": "stream",
     "text": [
      "Optimizing hyperparameters for LogisticRegression model...\n",
      "Best hyperparameters {'classifier__C': 1901.5864276129157}\n",
      "Best cross validation score -0.636700086239124\n",
      "\n",
      "['distance', 'visible_angle', 'angle_to_mid', 'time_between_shots_s', 'dist_closest_def', 'shooter_goalkeeper_dist', 'shot_goalkeeper_dist', 'shooter_goalkeeper_angle', 'shot_goalkeeper_angle', 'player_speed', 'number_of_passes', 'ball_posession', 'pressur_index', 'players_in_shot_angle_from_shot', 'players_in_shot_angle_from_player', 'powerplay', 'empty_net']\n",
      "###Validation Results###\n",
      "training set results: -0.545711779664465\n",
      "training set auc results: 0.8006993006993006\n",
      "\n",
      "###Evaluation Results###\n",
      "test set log loss results: 0.5744107599285586\n",
      "test set auc results: 0.7454545454545454\n",
      "[[17 14]\n",
      " [13 42]]\n",
      "              precision    recall  f1-score   support\n",
      "\n",
      "           0       0.57      0.55      0.56        31\n",
      "           1       0.75      0.76      0.76        55\n",
      "\n",
      "    accuracy                           0.69        86\n",
      "   macro avg       0.66      0.66      0.66        86\n",
      "weighted avg       0.68      0.69      0.68        86\n",
      "\n",
      "\n"
     ]
    },
    {
     "data": {
      "text/markdown": [
       "#### Calibration curve before Calibration"
      ],
      "text/plain": [
       "<IPython.core.display.Markdown object>"
      ]
     },
     "metadata": {},
     "output_type": "display_data"
    },
    {
     "data": {
      "text/markdown": [
       "AUROC: 0.7454545454545454"
      ],
      "text/plain": [
       "<IPython.core.display.Markdown object>"
      ]
     },
     "metadata": {},
     "output_type": "display_data"
    },
    {
     "data": {
      "text/markdown": [
       "Gini: 0.49090909090909074"
      ],
      "text/plain": [
       "<IPython.core.display.Markdown object>"
      ]
     },
     "metadata": {},
     "output_type": "display_data"
    },
    {
     "data": {
      "text/markdown": [
       "Fraction of positive cases in the test set: 0.6395348837209303"
      ],
      "text/plain": [
       "<IPython.core.display.Markdown object>"
      ]
     },
     "metadata": {},
     "output_type": "display_data"
    },
    {
     "data": {
      "text/markdown": [
       "Mean predicted value in the test set:       0.6320091628304582"
      ],
      "text/plain": [
       "<IPython.core.display.Markdown object>"
      ]
     },
     "metadata": {},
     "output_type": "display_data"
    },
    {
     "data": {
      "text/markdown": [
       "ECE (equal width bins):       0.07558369261791326"
      ],
      "text/plain": [
       "<IPython.core.display.Markdown object>"
      ]
     },
     "metadata": {},
     "output_type": "display_data"
    },
    {
     "data": {
      "text/markdown": [
       "test set log loss results: 0.5744107599285586"
      ],
      "text/plain": [
       "<IPython.core.display.Markdown object>"
      ]
     },
     "metadata": {},
     "output_type": "display_data"
    },
    {
     "data": {
      "text/markdown": [
       "#### Histogram of the probability distribution"
      ],
      "text/plain": [
       "<IPython.core.display.Markdown object>"
      ]
     },
     "metadata": {},
     "output_type": "display_data"
    },
    {
     "data": {
      "text/markdown": [
       "#### KDE plots of the probability distribution by class"
      ],
      "text/plain": [
       "<IPython.core.display.Markdown object>"
      ]
     },
     "metadata": {},
     "output_type": "display_data"
    },
    {
     "data": {
      "text/markdown": [
       "#### Calibration curve (equal width bins)"
      ],
      "text/plain": [
       "<IPython.core.display.Markdown object>"
      ]
     },
     "metadata": {},
     "output_type": "display_data"
    },
    {
     "data": {
      "text/markdown": [
       "#### Calibration curve (equal size bins)"
      ],
      "text/plain": [
       "<IPython.core.display.Markdown object>"
      ]
     },
     "metadata": {},
     "output_type": "display_data"
    },
    {
     "data": {
      "text/markdown": [
       "#### Calibration curve after isotonic Calibration"
      ],
      "text/plain": [
       "<IPython.core.display.Markdown object>"
      ]
     },
     "metadata": {},
     "output_type": "display_data"
    },
    {
     "data": {
      "text/markdown": [
       "AUROC: 0.7521994134897361"
      ],
      "text/plain": [
       "<IPython.core.display.Markdown object>"
      ]
     },
     "metadata": {},
     "output_type": "display_data"
    },
    {
     "data": {
      "text/markdown": [
       "Gini: 0.5043988269794721"
      ],
      "text/plain": [
       "<IPython.core.display.Markdown object>"
      ]
     },
     "metadata": {},
     "output_type": "display_data"
    },
    {
     "data": {
      "text/markdown": [
       "Fraction of positive cases in the test set: 0.6395348837209303"
      ],
      "text/plain": [
       "<IPython.core.display.Markdown object>"
      ]
     },
     "metadata": {},
     "output_type": "display_data"
    },
    {
     "data": {
      "text/markdown": [
       "Mean predicted value in the test set:       0.6278021203249297"
      ],
      "text/plain": [
       "<IPython.core.display.Markdown object>"
      ]
     },
     "metadata": {},
     "output_type": "display_data"
    },
    {
     "data": {
      "text/markdown": [
       "ECE (equal width bins):       0.07967131875781498"
      ],
      "text/plain": [
       "<IPython.core.display.Markdown object>"
      ]
     },
     "metadata": {},
     "output_type": "display_data"
    },
    {
     "data": {
      "text/markdown": [
       "test set log loss results: 0.5722492439609312"
      ],
      "text/plain": [
       "<IPython.core.display.Markdown object>"
      ]
     },
     "metadata": {},
     "output_type": "display_data"
    },
    {
     "data": {
      "text/markdown": [
       "#### Histogram of the probability distribution"
      ],
      "text/plain": [
       "<IPython.core.display.Markdown object>"
      ]
     },
     "metadata": {},
     "output_type": "display_data"
    },
    {
     "data": {
      "text/markdown": [
       "#### KDE plots of the probability distribution by class"
      ],
      "text/plain": [
       "<IPython.core.display.Markdown object>"
      ]
     },
     "metadata": {},
     "output_type": "display_data"
    },
    {
     "data": {
      "text/markdown": [
       "#### Calibration curve (equal width bins)"
      ],
      "text/plain": [
       "<IPython.core.display.Markdown object>"
      ]
     },
     "metadata": {},
     "output_type": "display_data"
    },
    {
     "data": {
      "text/markdown": [
       "#### Calibration curve (equal size bins)"
      ],
      "text/plain": [
       "<IPython.core.display.Markdown object>"
      ]
     },
     "metadata": {},
     "output_type": "display_data"
    },
    {
     "data": {
      "text/markdown": [
       "#### Calibration curve after sigmoid Calibration"
      ],
      "text/plain": [
       "<IPython.core.display.Markdown object>"
      ]
     },
     "metadata": {},
     "output_type": "display_data"
    },
    {
     "data": {
      "text/markdown": [
       "AUROC: 0.7454545454545454"
      ],
      "text/plain": [
       "<IPython.core.display.Markdown object>"
      ]
     },
     "metadata": {},
     "output_type": "display_data"
    },
    {
     "data": {
      "text/markdown": [
       "Gini: 0.49090909090909074"
      ],
      "text/plain": [
       "<IPython.core.display.Markdown object>"
      ]
     },
     "metadata": {},
     "output_type": "display_data"
    },
    {
     "data": {
      "text/markdown": [
       "Fraction of positive cases in the test set: 0.6395348837209303"
      ],
      "text/plain": [
       "<IPython.core.display.Markdown object>"
      ]
     },
     "metadata": {},
     "output_type": "display_data"
    },
    {
     "data": {
      "text/markdown": [
       "Mean predicted value in the test set:       0.6321925882988428"
      ],
      "text/plain": [
       "<IPython.core.display.Markdown object>"
      ]
     },
     "metadata": {},
     "output_type": "display_data"
    },
    {
     "data": {
      "text/markdown": [
       "ECE (equal width bins):       0.07363806919834472"
      ],
      "text/plain": [
       "<IPython.core.display.Markdown object>"
      ]
     },
     "metadata": {},
     "output_type": "display_data"
    },
    {
     "data": {
      "text/markdown": [
       "test set log loss results: 0.5732237769916163"
      ],
      "text/plain": [
       "<IPython.core.display.Markdown object>"
      ]
     },
     "metadata": {},
     "output_type": "display_data"
    },
    {
     "data": {
      "text/markdown": [
       "#### Histogram of the probability distribution"
      ],
      "text/plain": [
       "<IPython.core.display.Markdown object>"
      ]
     },
     "metadata": {},
     "output_type": "display_data"
    },
    {
     "data": {
      "text/markdown": [
       "#### KDE plots of the probability distribution by class"
      ],
      "text/plain": [
       "<IPython.core.display.Markdown object>"
      ]
     },
     "metadata": {},
     "output_type": "display_data"
    },
    {
     "data": {
      "text/markdown": [
       "#### Calibration curve (equal width bins)"
      ],
      "text/plain": [
       "<IPython.core.display.Markdown object>"
      ]
     },
     "metadata": {},
     "output_type": "display_data"
    },
    {
     "data": {
      "text/markdown": [
       "#### Calibration curve (equal size bins)"
      ],
      "text/plain": [
       "<IPython.core.display.Markdown object>"
      ]
     },
     "metadata": {},
     "output_type": "display_data"
    },
    {
     "name": "stdout",
     "output_type": "stream",
     "text": [
      "Optimizing hyperparameters for RandomForestClassifier model...\n"
     ]
    },
    {
     "name": "stderr",
     "output_type": "stream",
     "text": [
      "\n",
      "10 fits failed out of a total of 200.\n",
      "The score on these train-test partitions for these parameters will be set to nan.\n",
      "If these failures are not expected, you can try to debug them by setting error_score='raise'.\n",
      "\n",
      "Below are more details about the failures:\n",
      "--------------------------------------------------------------------------------\n",
      "10 fits failed with the following error:\n",
      "Traceback (most recent call last):\n",
      "  File \"/home/sc.uni-leipzig.de/az091jwou/.local/lib/python3.9/site-packages/sklearn/model_selection/_validation.py\", line 686, in _fit_and_score\n",
      "    estimator.fit(X_train, y_train, **fit_params)\n",
      "  File \"/home/sc.uni-leipzig.de/az091jwou/.local/lib/python3.9/site-packages/imblearn/pipeline.py\", line 297, in fit\n",
      "    self._final_estimator.fit(Xt, yt, **fit_params_last_step)\n",
      "  File \"/home/sc.uni-leipzig.de/az091jwou/.local/lib/python3.9/site-packages/sklearn/ensemble/_forest.py\", line 340, in fit\n",
      "    self._validate_params()\n",
      "  File \"/home/sc.uni-leipzig.de/az091jwou/.local/lib/python3.9/site-packages/sklearn/base.py\", line 600, in _validate_params\n",
      "    validate_parameter_constraints(\n",
      "  File \"/home/sc.uni-leipzig.de/az091jwou/.local/lib/python3.9/site-packages/sklearn/utils/_param_validation.py\", line 97, in validate_parameter_constraints\n",
      "    raise InvalidParameterError(\n",
      "sklearn.utils._param_validation.InvalidParameterError: The 'max_leaf_nodes' parameter of RandomForestClassifier must be an int in the range [2, inf) or None. Got 1 instead.\n",
      "\n",
      "One or more of the test scores are non-finite: [-0.64161974 -0.62405202 -0.6310008  -0.63138972 -0.64430601 -0.62802322\n",
      " -0.63440871 -0.63556232 -0.61753953 -0.63356344 -0.6381068          nan\n",
      " -0.62433264 -0.63927265 -0.61669458 -0.62347492 -0.63851486 -0.63382406\n",
      " -0.64007037 -0.62506802]\n"
     ]
    },
    {
     "name": "stdout",
     "output_type": "stream",
     "text": [
      "Best hyperparameters {'classifier__n_estimators': 181, 'classifier__max_leaf_nodes': 8, 'classifier__max_depth': 2}\n",
      "Best cross validation score -0.6166945770893472\n",
      "\n",
      "['distance', 'visible_angle', 'angle_to_mid', 'time_between_shots_s', 'dist_closest_def', 'shooter_goalkeeper_dist', 'shot_goalkeeper_dist', 'shooter_goalkeeper_angle', 'shot_goalkeeper_angle', 'player_speed', 'number_of_passes', 'ball_posession', 'pressur_index', 'players_in_shot_angle_from_shot', 'players_in_shot_angle_from_player', 'powerplay', 'empty_net']\n",
      "###Validation Results###\n",
      "training set results: -0.5619837459083219\n",
      "training set auc results: 0.7902097902097902\n",
      "\n",
      "###Evaluation Results###\n",
      "test set log loss results: 0.5550748775218741\n",
      "test set auc results: 0.7741935483870968\n",
      "[[15 16]\n",
      " [ 7 48]]\n",
      "              precision    recall  f1-score   support\n",
      "\n",
      "           0       0.68      0.48      0.57        31\n",
      "           1       0.75      0.87      0.81        55\n",
      "\n",
      "    accuracy                           0.73        86\n",
      "   macro avg       0.72      0.68      0.69        86\n",
      "weighted avg       0.73      0.73      0.72        86\n",
      "\n",
      "\n"
     ]
    },
    {
     "data": {
      "text/markdown": [
       "#### Calibration curve before Calibration"
      ],
      "text/plain": [
       "<IPython.core.display.Markdown object>"
      ]
     },
     "metadata": {},
     "output_type": "display_data"
    },
    {
     "data": {
      "text/markdown": [
       "AUROC: 0.7741935483870968"
      ],
      "text/plain": [
       "<IPython.core.display.Markdown object>"
      ]
     },
     "metadata": {},
     "output_type": "display_data"
    },
    {
     "data": {
      "text/markdown": [
       "Gini: 0.5483870967741935"
      ],
      "text/plain": [
       "<IPython.core.display.Markdown object>"
      ]
     },
     "metadata": {},
     "output_type": "display_data"
    },
    {
     "data": {
      "text/markdown": [
       "Fraction of positive cases in the test set: 0.6395348837209303"
      ],
      "text/plain": [
       "<IPython.core.display.Markdown object>"
      ]
     },
     "metadata": {},
     "output_type": "display_data"
    },
    {
     "data": {
      "text/markdown": [
       "Mean predicted value in the test set:       0.6403651884380261"
      ],
      "text/plain": [
       "<IPython.core.display.Markdown object>"
      ]
     },
     "metadata": {},
     "output_type": "display_data"
    },
    {
     "data": {
      "text/markdown": [
       "ECE (equal width bins):       0.10960875809804296"
      ],
      "text/plain": [
       "<IPython.core.display.Markdown object>"
      ]
     },
     "metadata": {},
     "output_type": "display_data"
    },
    {
     "data": {
      "text/markdown": [
       "test set log loss results: 0.5550748775218742"
      ],
      "text/plain": [
       "<IPython.core.display.Markdown object>"
      ]
     },
     "metadata": {},
     "output_type": "display_data"
    },
    {
     "data": {
      "text/markdown": [
       "#### Histogram of the probability distribution"
      ],
      "text/plain": [
       "<IPython.core.display.Markdown object>"
      ]
     },
     "metadata": {},
     "output_type": "display_data"
    },
    {
     "data": {
      "text/markdown": [
       "#### KDE plots of the probability distribution by class"
      ],
      "text/plain": [
       "<IPython.core.display.Markdown object>"
      ]
     },
     "metadata": {},
     "output_type": "display_data"
    },
    {
     "data": {
      "text/markdown": [
       "#### Calibration curve (equal width bins)"
      ],
      "text/plain": [
       "<IPython.core.display.Markdown object>"
      ]
     },
     "metadata": {},
     "output_type": "display_data"
    },
    {
     "data": {
      "text/markdown": [
       "#### Calibration curve (equal size bins)"
      ],
      "text/plain": [
       "<IPython.core.display.Markdown object>"
      ]
     },
     "metadata": {},
     "output_type": "display_data"
    },
    {
     "name": "stderr",
     "output_type": "stream",
     "text": [
      "More than 20 figures have been opened. Figures created through the pyplot interface (`matplotlib.pyplot.figure`) are retained until explicitly closed and may consume too much memory. (To control this warning, see the rcParam `figure.max_open_warning`).\n"
     ]
    },
    {
     "data": {
      "text/markdown": [
       "#### Calibration curve after isotonic Calibration"
      ],
      "text/plain": [
       "<IPython.core.display.Markdown object>"
      ]
     },
     "metadata": {},
     "output_type": "display_data"
    },
    {
     "data": {
      "text/markdown": [
       "AUROC: 0.7821114369501466"
      ],
      "text/plain": [
       "<IPython.core.display.Markdown object>"
      ]
     },
     "metadata": {},
     "output_type": "display_data"
    },
    {
     "data": {
      "text/markdown": [
       "Gini: 0.5642228739002932"
      ],
      "text/plain": [
       "<IPython.core.display.Markdown object>"
      ]
     },
     "metadata": {},
     "output_type": "display_data"
    },
    {
     "data": {
      "text/markdown": [
       "Fraction of positive cases in the test set: 0.6395348837209303"
      ],
      "text/plain": [
       "<IPython.core.display.Markdown object>"
      ]
     },
     "metadata": {},
     "output_type": "display_data"
    },
    {
     "data": {
      "text/markdown": [
       "Mean predicted value in the test set:       0.6435285867702312"
      ],
      "text/plain": [
       "<IPython.core.display.Markdown object>"
      ]
     },
     "metadata": {},
     "output_type": "display_data"
    },
    {
     "data": {
      "text/markdown": [
       "ECE (equal width bins):       0.07331490145739189"
      ],
      "text/plain": [
       "<IPython.core.display.Markdown object>"
      ]
     },
     "metadata": {},
     "output_type": "display_data"
    },
    {
     "data": {
      "text/markdown": [
       "test set log loss results: 0.5368927988817329"
      ],
      "text/plain": [
       "<IPython.core.display.Markdown object>"
      ]
     },
     "metadata": {},
     "output_type": "display_data"
    },
    {
     "data": {
      "text/markdown": [
       "#### Histogram of the probability distribution"
      ],
      "text/plain": [
       "<IPython.core.display.Markdown object>"
      ]
     },
     "metadata": {},
     "output_type": "display_data"
    },
    {
     "data": {
      "text/markdown": [
       "#### KDE plots of the probability distribution by class"
      ],
      "text/plain": [
       "<IPython.core.display.Markdown object>"
      ]
     },
     "metadata": {},
     "output_type": "display_data"
    },
    {
     "data": {
      "text/markdown": [
       "#### Calibration curve (equal width bins)"
      ],
      "text/plain": [
       "<IPython.core.display.Markdown object>"
      ]
     },
     "metadata": {},
     "output_type": "display_data"
    },
    {
     "data": {
      "text/markdown": [
       "#### Calibration curve (equal size bins)"
      ],
      "text/plain": [
       "<IPython.core.display.Markdown object>"
      ]
     },
     "metadata": {},
     "output_type": "display_data"
    },
    {
     "data": {
      "text/markdown": [
       "#### Calibration curve after sigmoid Calibration"
      ],
      "text/plain": [
       "<IPython.core.display.Markdown object>"
      ]
     },
     "metadata": {},
     "output_type": "display_data"
    },
    {
     "data": {
      "text/markdown": [
       "AUROC: 0.7741935483870968"
      ],
      "text/plain": [
       "<IPython.core.display.Markdown object>"
      ]
     },
     "metadata": {},
     "output_type": "display_data"
    },
    {
     "data": {
      "text/markdown": [
       "Gini: 0.5483870967741935"
      ],
      "text/plain": [
       "<IPython.core.display.Markdown object>"
      ]
     },
     "metadata": {},
     "output_type": "display_data"
    },
    {
     "data": {
      "text/markdown": [
       "Fraction of positive cases in the test set: 0.6395348837209303"
      ],
      "text/plain": [
       "<IPython.core.display.Markdown object>"
      ]
     },
     "metadata": {},
     "output_type": "display_data"
    },
    {
     "data": {
      "text/markdown": [
       "Mean predicted value in the test set:       0.6434437967857044"
      ],
      "text/plain": [
       "<IPython.core.display.Markdown object>"
      ]
     },
     "metadata": {},
     "output_type": "display_data"
    },
    {
     "data": {
      "text/markdown": [
       "ECE (equal width bins):       0.06541538610190491"
      ],
      "text/plain": [
       "<IPython.core.display.Markdown object>"
      ]
     },
     "metadata": {},
     "output_type": "display_data"
    },
    {
     "data": {
      "text/markdown": [
       "test set log loss results: 0.5288334425902728"
      ],
      "text/plain": [
       "<IPython.core.display.Markdown object>"
      ]
     },
     "metadata": {},
     "output_type": "display_data"
    },
    {
     "data": {
      "text/markdown": [
       "#### Histogram of the probability distribution"
      ],
      "text/plain": [
       "<IPython.core.display.Markdown object>"
      ]
     },
     "metadata": {},
     "output_type": "display_data"
    },
    {
     "data": {
      "text/markdown": [
       "#### KDE plots of the probability distribution by class"
      ],
      "text/plain": [
       "<IPython.core.display.Markdown object>"
      ]
     },
     "metadata": {},
     "output_type": "display_data"
    },
    {
     "data": {
      "text/markdown": [
       "#### Calibration curve (equal width bins)"
      ],
      "text/plain": [
       "<IPython.core.display.Markdown object>"
      ]
     },
     "metadata": {},
     "output_type": "display_data"
    },
    {
     "data": {
      "text/markdown": [
       "#### Calibration curve (equal size bins)"
      ],
      "text/plain": [
       "<IPython.core.display.Markdown object>"
      ]
     },
     "metadata": {},
     "output_type": "display_data"
    },
    {
     "data": {
      "text/plain": [
       "<Figure size 640x480 with 0 Axes>"
      ]
     },
     "metadata": {},
     "output_type": "display_data"
    },
    {
     "data": {
      "text/plain": [
       "<Figure size 800x830 with 0 Axes>"
      ]
     },
     "metadata": {},
     "output_type": "display_data"
    },
    {
     "data": {
      "text/plain": [
       "<Figure size 640x480 with 0 Axes>"
      ]
     },
     "metadata": {},
     "output_type": "display_data"
    },
    {
     "data": {
      "text/plain": [
       "<Figure size 800x830 with 0 Axes>"
      ]
     },
     "metadata": {},
     "output_type": "display_data"
    },
    {
     "data": {
      "text/plain": [
       "<Figure size 640x480 with 0 Axes>"
      ]
     },
     "metadata": {},
     "output_type": "display_data"
    },
    {
     "data": {
      "text/plain": [
       "<Figure size 800x830 with 0 Axes>"
      ]
     },
     "metadata": {},
     "output_type": "display_data"
    },
    {
     "data": {
      "text/plain": [
       "<Figure size 640x480 with 0 Axes>"
      ]
     },
     "metadata": {},
     "output_type": "display_data"
    },
    {
     "data": {
      "text/plain": [
       "<Figure size 800x830 with 0 Axes>"
      ]
     },
     "metadata": {},
     "output_type": "display_data"
    },
    {
     "data": {
      "text/plain": [
       "<Figure size 640x480 with 0 Axes>"
      ]
     },
     "metadata": {},
     "output_type": "display_data"
    },
    {
     "data": {
      "text/plain": [
       "<Figure size 800x830 with 0 Axes>"
      ]
     },
     "metadata": {},
     "output_type": "display_data"
    },
    {
     "data": {
      "text/plain": [
       "<Figure size 640x480 with 0 Axes>"
      ]
     },
     "metadata": {},
     "output_type": "display_data"
    },
    {
     "data": {
      "text/plain": [
       "<Figure size 800x830 with 0 Axes>"
      ]
     },
     "metadata": {},
     "output_type": "display_data"
    },
    {
     "data": {
      "text/plain": [
       "<Figure size 640x480 with 0 Axes>"
      ]
     },
     "metadata": {},
     "output_type": "display_data"
    },
    {
     "data": {
      "text/plain": [
       "<Figure size 640x480 with 0 Axes>"
      ]
     },
     "metadata": {},
     "output_type": "display_data"
    },
    {
     "data": {
      "text/plain": [
       "<Figure size 1000x600 with 0 Axes>"
      ]
     },
     "metadata": {},
     "output_type": "display_data"
    },
    {
     "data": {
      "text/plain": [
       "<Figure size 640x480 with 0 Axes>"
      ]
     },
     "metadata": {},
     "output_type": "display_data"
    },
    {
     "data": {
      "text/plain": [
       "<Figure size 1000x600 with 0 Axes>"
      ]
     },
     "metadata": {},
     "output_type": "display_data"
    },
    {
     "data": {
      "text/plain": [
       "<Figure size 640x480 with 0 Axes>"
      ]
     },
     "metadata": {},
     "output_type": "display_data"
    },
    {
     "data": {
      "text/plain": [
       "<Figure size 1000x600 with 0 Axes>"
      ]
     },
     "metadata": {},
     "output_type": "display_data"
    },
    {
     "data": {
      "image/png": "[encoded data removed]",
      "text/plain": [
       "<Figure size 640x480 with 1 Axes>"
      ]
     },
     "metadata": {},
     "output_type": "display_data"
    },
    {
     "data": {
      "text/plain": [
       "<Figure size 800x830 with 0 Axes>"
      ]
     },
     "metadata": {},
     "output_type": "display_data"
    },
    {
     "data": {
      "text/plain": [
       "<Figure size 800x830 with 0 Axes>"
      ]
     },
     "metadata": {},
     "output_type": "display_data"
    },
    {
     "data": {
      "image/png": "[encoded data removed]",
      "text/plain": [
       "<Figure size 640x480 with 1 Axes>"
      ]
     },
     "metadata": {},
     "output_type": "display_data"
    },
    {
     "data": {
      "image/png": "[encoded data removed]",
      "text/plain": [
       "<Figure size 800x830 with 1 Axes>"
      ]
     },
     "metadata": {},
     "output_type": "display_data"
    }
   ],
   "source": [
    "classifiers = create_classifier_dict()\n",
    "numerical_shot_attributes = dataset_dict.get(\"num_attr\")\n",
    "categorical_features = dataset_dict.get(\"cat_attr\")\n",
    "\n",
    "for classifier_name, classifier_obj in classifiers.items():\n",
    "    ## pipeline for standardization, hyperparameteropt, rfe and os inlc. Training report\n",
    "    cv_res, best_clf , pipe, result_df, eval_result_df = full_pipeline(comb='T', \n",
    "                                                                    X_train=X_train, \n",
    "                                                                    y_train=y_train,\n",
    "                                                                    X_test=X_test,\n",
    "                                                                    y_test=y_test,\n",
    "                                                                    numeric_features=numerical_shot_attributes,\n",
    "                                                                    categorical_features=categorical_features,\n",
    "                                                                    clf=classifier_obj[0],\n",
    "                                                                    hyperparameter_dist=classifier_obj[1],\n",
    "                                                                    result_df=result_df,\n",
    "                                                                    eval_result_df=eval_result_df,\n",
    "                                                                    scoring=\"neg_log_loss\",\n",
    "                                                                    n_iter=20,\n",
    "                                                                    rfe=False,\n",
    "                                                                    os=False,\n",
    "                                                                    log=False,\n",
    "                                                                    save=False,\n",
    "                                                                    n_features_to_select=None,\n",
    "                                                                    calibration=True)\n",
    "    ##Calculate xG Values\n",
    "    dataset[classifier_name +\"_xG\"] = best_clf.predict_proba(X)[:,1]\n",
    "dataset.to_csv('/home/sc.uni-leipzig.de/az091jwou/expected_goals_handball/Data/detailed_shots_dataset_result.csv')"
   ]
  },
  {
   "cell_type": "markdown",
   "id": "aa0231e1-c0a2-446f-814a-93b2ded1de88",
   "metadata": {},
   "source": [
    "# Evaluation"
   ]
  },
  {
   "cell_type": "code",
   "execution_count": null,
   "id": "414bdde9-921e-447a-a5cb-00669111d9ee",
   "metadata": {},
   "outputs": [],
   "source": [
    "result_df.to_csv('/home/sc.uni-leipzig.de/az091jwou/expected_goals_handball/Models/new_train_results_cv.csv')\n",
    "eval_result_df.to_csv('/home/sc.uni-leipzig.de/az091jwou/expected_goals_handball/Models/new_eval_results_cv.csv')"
   ]
  },
  {
   "cell_type": "markdown",
   "id": "a281d033-15cd-43e5-9422-3bed78cfeccd",
   "metadata": {},
   "source": [
    "## Training Results"
   ]
  },
  {
   "cell_type": "code",
   "execution_count": 19,
   "id": "ad5d016e-07af-4fbd-b411-3c30aa5441c0",
   "metadata": {},
   "outputs": [
    {
     "data": {
      "text/html": [
       "<div>\n",
       "<style scoped>\n",
       "    .dataframe tbody tr th:only-of-type {\n",
       "        vertical-align: middle;\n",
       "    }\n",
       "\n",
       "    .dataframe tbody tr th {\n",
       "        vertical-align: top;\n",
       "    }\n",
       "\n",
       "    .dataframe thead th {\n",
       "        text-align: right;\n",
       "    }\n",
       "</style>\n",
       "<table border=\"1\" class=\"dataframe\">\n",
       "  <thead>\n",
       "    <tr style=\"text-align: right;\">\n",
       "      <th></th>\n",
       "      <th></th>\n",
       "      <th></th>\n",
       "      <th>log_loss_training</th>\n",
       "      <th>auc_train</th>\n",
       "    </tr>\n",
       "    <tr>\n",
       "      <th>Dataset</th>\n",
       "      <th>Comb</th>\n",
       "      <th>Classifier</th>\n",
       "      <th></th>\n",
       "      <th></th>\n",
       "    </tr>\n",
       "  </thead>\n",
       "  <tbody>\n",
       "    <tr>\n",
       "      <th rowspan=\"4\" valign=\"top\">simple</th>\n",
       "      <th rowspan=\"4\" valign=\"top\">T</th>\n",
       "      <th>lightgbm</th>\n",
       "      <td>-0.607510</td>\n",
       "      <td>0.685189</td>\n",
       "    </tr>\n",
       "    <tr>\n",
       "      <th>logistic_reg</th>\n",
       "      <td>-0.642812</td>\n",
       "      <td>0.665506</td>\n",
       "    </tr>\n",
       "    <tr>\n",
       "      <th>random_forest</th>\n",
       "      <td>-0.607497</td>\n",
       "      <td>0.690506</td>\n",
       "    </tr>\n",
       "    <tr>\n",
       "      <th>xgboost</th>\n",
       "      <td>-0.606837</td>\n",
       "      <td>0.683352</td>\n",
       "    </tr>\n",
       "  </tbody>\n",
       "</table>\n",
       "</div>"
      ],
      "text/plain": [
       "                            log_loss_training  auc_train\n",
       "Dataset Comb Classifier                                 \n",
       "simple  T    lightgbm               -0.607510   0.685189\n",
       "             logistic_reg           -0.642812   0.665506\n",
       "             random_forest          -0.607497   0.690506\n",
       "             xgboost                -0.606837   0.683352"
      ]
     },
     "execution_count": 19,
     "metadata": {},
     "output_type": "execute_result"
    }
   ],
   "source": [
    "result_df.groupby(['Dataset','Comb', 'Classifier',]).mean()"
   ]
  },
  {
   "cell_type": "markdown",
   "id": "ca0dc314-f49b-4d32-bb52-338a3dbf17b4",
   "metadata": {},
   "source": [
    "## Test Results"
   ]
  },
  {
   "cell_type": "code",
   "execution_count": 20,
   "id": "19d532bd-c565-46d8-b2c2-6a4563ecb404",
   "metadata": {},
   "outputs": [
    {
     "data": {
      "text/html": [
       "<div>\n",
       "<style scoped>\n",
       "    .dataframe tbody tr th:only-of-type {\n",
       "        vertical-align: middle;\n",
       "    }\n",
       "\n",
       "    .dataframe tbody tr th {\n",
       "        vertical-align: top;\n",
       "    }\n",
       "\n",
       "    .dataframe thead th {\n",
       "        text-align: right;\n",
       "    }\n",
       "</style>\n",
       "<table border=\"1\" class=\"dataframe\">\n",
       "  <thead>\n",
       "    <tr style=\"text-align: right;\">\n",
       "      <th></th>\n",
       "      <th></th>\n",
       "      <th></th>\n",
       "      <th>log_loss_test</th>\n",
       "      <th>auc</th>\n",
       "    </tr>\n",
       "    <tr>\n",
       "      <th>Dataset</th>\n",
       "      <th>Comb</th>\n",
       "      <th>Classifier</th>\n",
       "      <th></th>\n",
       "      <th></th>\n",
       "    </tr>\n",
       "  </thead>\n",
       "  <tbody>\n",
       "    <tr>\n",
       "      <th rowspan=\"4\" valign=\"top\">simple</th>\n",
       "      <th rowspan=\"4\" valign=\"top\">T</th>\n",
       "      <th>lightgbm</th>\n",
       "      <td>0.623432</td>\n",
       "      <td>0.648702</td>\n",
       "    </tr>\n",
       "    <tr>\n",
       "      <th>logistic_reg</th>\n",
       "      <td>0.650531</td>\n",
       "      <td>0.625442</td>\n",
       "    </tr>\n",
       "    <tr>\n",
       "      <th>random_forest</th>\n",
       "      <td>0.622994</td>\n",
       "      <td>0.650652</td>\n",
       "    </tr>\n",
       "    <tr>\n",
       "      <th>xgboost</th>\n",
       "      <td>0.621559</td>\n",
       "      <td>0.653014</td>\n",
       "    </tr>\n",
       "  </tbody>\n",
       "</table>\n",
       "</div>"
      ],
      "text/plain": [
       "                            log_loss_test       auc\n",
       "Dataset Comb Classifier                            \n",
       "simple  T    lightgbm            0.623432  0.648702\n",
       "             logistic_reg        0.650531  0.625442\n",
       "             random_forest       0.622994  0.650652\n",
       "             xgboost             0.621559  0.653014"
      ]
     },
     "metadata": {},
     "output_type": "display_data"
    }
   ],
   "source": [
    "eval_test = eval_result_df.groupby(['Dataset','Comb', 'Classifier']).mean()\n",
    "display(eval_test[['log_loss_test', 'auc']])"
   ]
  },
  {
   "cell_type": "code",
   "execution_count": null,
   "id": "4bddb5ec-49e8-446b-9fc3-2b3624af0b3a",
   "metadata": {},
   "outputs": [],
   "source": []
  }
 ],
 "metadata": {
  "kernelspec": {
   "display_name": "Python 3.9 TensorFlow 2.6.6 CUDA",
   "language": "python",
   "name": "tf-gpu"
  },
  "language_info": {
   "codemirror_mode": {
    "name": "ipython",
    "version": 3
   },
   "file_extension": ".py",
   "mimetype": "text/x-python",
   "name": "python",
   "nbconvert_exporter": "python",
   "pygments_lexer": "ipython3",
   "version": "3.9.15"
  }
 },
 "nbformat": 4,
 "nbformat_minor": 5
}
